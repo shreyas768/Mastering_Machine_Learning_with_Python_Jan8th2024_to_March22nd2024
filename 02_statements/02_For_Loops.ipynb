{
 "cells": [
  {
   "cell_type": "code",
   "execution_count": 1,
   "id": "2d9b7e57",
   "metadata": {},
   "outputs": [],
   "source": [
    "#for item in object:\n",
    "#    statements to do stuff"
   ]
  },
  {
   "cell_type": "code",
   "execution_count": 3,
   "id": "c8b31b0f",
   "metadata": {},
   "outputs": [
    {
     "name": "stdout",
     "output_type": "stream",
     "text": [
      "1\n",
      "4\n",
      "9\n",
      "16\n",
      "25\n",
      "36\n",
      "49\n",
      "64\n",
      "81\n",
      "100\n"
     ]
    }
   ],
   "source": [
    "#example1\n",
    "lst1 = [1,2,3,4,5,6,7,8,9,10]\n",
    "for x in lst1:\n",
    "    print(x**2)"
   ]
  },
  {
   "cell_type": "code",
   "execution_count": 5,
   "id": "0a5ca1fa",
   "metadata": {},
   "outputs": [
    {
     "name": "stdout",
     "output_type": "stream",
     "text": [
      "Odd number\n",
      "2\n",
      "Odd number\n",
      "4\n",
      "Odd number\n",
      "6\n",
      "Odd number\n",
      "8\n",
      "Odd number\n",
      "10\n"
     ]
    }
   ],
   "source": [
    "#example2\n",
    "for x in lst1:\n",
    "    if x%2 == 0:\n",
    "        print(x)\n",
    "    else: print('Odd number')"
   ]
  },
  {
   "cell_type": "code",
   "execution_count": 7,
   "id": "39ba90e5",
   "metadata": {},
   "outputs": [
    {
     "data": {
      "text/plain": [
       "[1, 2, 3, 4, 5, 6, 7, 8, 9, 10]"
      ]
     },
     "execution_count": 7,
     "metadata": {},
     "output_type": "execute_result"
    }
   ],
   "source": [
    "lst1"
   ]
  },
  {
   "cell_type": "code",
   "execution_count": 10,
   "id": "c119ccfe",
   "metadata": {},
   "outputs": [
    {
     "name": "stdout",
     "output_type": "stream",
     "text": [
      "55\n"
     ]
    }
   ],
   "source": [
    "#example3\n",
    "sum1 = 0\n",
    "for num in lst1:\n",
    "    sum1 = sum1+num\n",
    "\n",
    "print(sum1)"
   ]
  },
  {
   "cell_type": "code",
   "execution_count": 11,
   "id": "0a7a27fe",
   "metadata": {},
   "outputs": [
    {
     "name": "stdout",
     "output_type": "stream",
     "text": [
      "1\n",
      "8\n",
      "27\n",
      "64\n",
      "125\n"
     ]
    }
   ],
   "source": [
    "#example4 \n",
    "tup = (1,2,3,4,5)\n",
    "for t in tup:\n",
    "    print(t**3)"
   ]
  },
  {
   "cell_type": "code",
   "execution_count": 12,
   "id": "7f3e7ac4",
   "metadata": {},
   "outputs": [
    {
     "name": "stdout",
     "output_type": "stream",
     "text": [
      "(2, 4)\n",
      "(6, 8)\n",
      "(4, 5)\n"
     ]
    }
   ],
   "source": [
    "#example5\n",
    "lst2 = [(2,4),(6,8),(4,5)]\n",
    "for tup in lst2:\n",
    "    print(tup)"
   ]
  },
  {
   "cell_type": "code",
   "execution_count": 14,
   "id": "716c68fb",
   "metadata": {},
   "outputs": [
    {
     "name": "stdout",
     "output_type": "stream",
     "text": [
      "6\n",
      "14\n",
      "9\n"
     ]
    }
   ],
   "source": [
    "#Tuple Unpacking\n",
    "for (t1,t2) in lst2:\n",
    "    print(t1+t2)"
   ]
  },
  {
   "cell_type": "code",
   "execution_count": 16,
   "id": "64338932",
   "metadata": {},
   "outputs": [
    {
     "name": "stdout",
     "output_type": "stream",
     "text": [
      "k1\n",
      "k2\n",
      "k3\n"
     ]
    }
   ],
   "source": [
    "#example6\n",
    "\n",
    "d = {'k1':1,'k2':2,'k3':3}\n",
    "\n",
    "for item in d:\n",
    "    print(item)"
   ]
  },
  {
   "cell_type": "code",
   "execution_count": 17,
   "id": "abafb9fd",
   "metadata": {},
   "outputs": [
    {
     "data": {
      "text/plain": [
       "dict_items([('k1', 1), ('k2', 2), ('k3', 3)])"
      ]
     },
     "execution_count": 17,
     "metadata": {},
     "output_type": "execute_result"
    }
   ],
   "source": [
    "d.items()"
   ]
  },
  {
   "cell_type": "code",
   "execution_count": 18,
   "id": "d4d793ac",
   "metadata": {},
   "outputs": [
    {
     "name": "stdout",
     "output_type": "stream",
     "text": [
      "k1\n",
      "1\n",
      "k2\n",
      "2\n",
      "k3\n",
      "3\n"
     ]
    }
   ],
   "source": [
    "#dictionary unpacking\n",
    "\n",
    "for k,v in d.items():\n",
    "    print(k)\n",
    "    print(v)"
   ]
  },
  {
   "cell_type": "code",
   "execution_count": 19,
   "id": "28253c42",
   "metadata": {},
   "outputs": [
    {
     "name": "stdout",
     "output_type": "stream",
     "text": [
      "word\n",
      "in\n",
      "this\n",
      "sentence\n",
      "that\n",
      "an\n",
      "even\n",
      "number\n",
      "of\n"
     ]
    }
   ],
   "source": [
    "st = 'Print every word in this sentence that has an even number of letters'\n",
    "for word in st.split():\n",
    "    if len(word)%2 == 0:\n",
    "        print(word)"
   ]
  },
  {
   "cell_type": "code",
   "execution_count": null,
   "id": "571363a2",
   "metadata": {},
   "outputs": [],
   "source": []
  }
 ],
 "metadata": {
  "kernelspec": {
   "display_name": "Python 3 (ipykernel)",
   "language": "python",
   "name": "python3"
  },
  "language_info": {
   "codemirror_mode": {
    "name": "ipython",
    "version": 3
   },
   "file_extension": ".py",
   "mimetype": "text/x-python",
   "name": "python",
   "nbconvert_exporter": "python",
   "pygments_lexer": "ipython3",
   "version": "3.11.5"
  }
 },
 "nbformat": 4,
 "nbformat_minor": 5
}
