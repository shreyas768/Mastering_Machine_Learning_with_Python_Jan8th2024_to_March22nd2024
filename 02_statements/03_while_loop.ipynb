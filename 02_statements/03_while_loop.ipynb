{
 "cells": [
  {
   "cell_type": "code",
   "execution_count": 3,
   "id": "4df9f4cd",
   "metadata": {},
   "outputs": [
    {
     "name": "stdout",
     "output_type": "stream",
     "text": [
      "x is currently: 0\n",
      "2\n",
      "x is still less than 10, so adding 1 to x\n",
      "x is currently: 1\n",
      "3\n",
      "x is still less than 10, so adding 1 to x\n",
      "x is currently: 2\n",
      "4\n",
      "x is still less than 10, so adding 1 to x\n",
      "x is currently: 3\n",
      "5\n",
      "x is still less than 10, so adding 1 to x\n",
      "x is currently: 4\n",
      "6\n",
      "x is still less than 10, so adding 1 to x\n",
      "x is currently: 5\n",
      "7\n",
      "x is still less than 10, so adding 1 to x\n",
      "x is currently: 6\n",
      "8\n",
      "x is still less than 10, so adding 1 to x\n",
      "x is currently: 7\n",
      "9\n",
      "x is still less than 10, so adding 1 to x\n",
      "x is currently: 8\n",
      "10\n",
      "x is still less than 10, so adding 1 to x\n",
      "x is currently: 9\n",
      "11\n",
      "x is still less than 10, so adding 1 to x\n"
     ]
    }
   ],
   "source": [
    "x = 0 \n",
    "while x < 10:\n",
    "    print('x is currently:',x)\n",
    "    print('x is still less than 10, so adding 1 to x')\n",
    "    x = x+ 1"
   ]
  },
  {
   "cell_type": "code",
   "execution_count": 4,
   "id": "04fd142e",
   "metadata": {},
   "outputs": [
    {
     "name": "stdout",
     "output_type": "stream",
     "text": [
      "x is currently: 0\n",
      "x is still less than 10, so adding 1 to x\n",
      "x is currently: 1\n",
      "x is still less than 10, so adding 1 to x\n",
      "x is currently: 2\n",
      "x is still less than 10, so adding 1 to x\n",
      "x is currently: 3\n",
      "x is still less than 10, so adding 1 to x\n",
      "x is currently: 4\n",
      "x is still less than 10, so adding 1 to x\n",
      "x is currently: 5\n",
      "x is still less than 10, so adding 1 to x\n",
      "x is currently: 6\n",
      "x is still less than 10, so adding 1 to x\n",
      "x is currently: 7\n",
      "x is still less than 10, so adding 1 to x\n",
      "x is currently: 8\n",
      "x is still less than 10, so adding 1 to x\n",
      "x is currently: 9\n",
      "x is still less than 10, so adding 1 to x\n",
      "x is now equal to 10\n"
     ]
    }
   ],
   "source": [
    "x = 0 \n",
    "while x < 10:\n",
    "    print('x is currently:',x)\n",
    "    print('x is still less than 10, so adding 1 to x')\n",
    "    x = x+ 1\n",
    "else:\n",
    "    print('x is now equal to 10')"
   ]
  },
  {
   "cell_type": "markdown",
   "id": "a5f52de5",
   "metadata": {},
   "source": [
    "### break, continue, pass\n",
    "\n",
    "* break: breaks out of the current closest enclosing loop\n",
    "* continue: goes to the top of closest enclosing loop\n",
    "* pass: does nothing at all"
   ]
  },
  {
   "cell_type": "code",
   "execution_count": 7,
   "id": "6f569583",
   "metadata": {},
   "outputs": [
    {
     "name": "stdout",
     "output_type": "stream",
     "text": [
      "x is currently: 0\n",
      "x is still less than 10, so adding 1 to x\n",
      "continuing\n",
      "x is currently: 1\n",
      "x is still less than 10, so adding 1 to x\n",
      "continuing\n",
      "x is currently: 2\n",
      "x is still less than 10, so adding 1 to x\n",
      "x is equal to 3\n",
      "x is currently: 3\n",
      "x is still less than 10, so adding 1 to x\n",
      "continuing\n",
      "x is currently: 4\n",
      "x is still less than 10, so adding 1 to x\n",
      "continuing\n",
      "x is currently: 5\n",
      "x is still less than 10, so adding 1 to x\n",
      "continuing\n",
      "x is currently: 6\n",
      "x is still less than 10, so adding 1 to x\n",
      "continuing\n",
      "x is currently: 7\n",
      "x is still less than 10, so adding 1 to x\n",
      "continuing\n",
      "x is currently: 8\n",
      "x is still less than 10, so adding 1 to x\n",
      "continuing\n",
      "x is currently: 9\n",
      "x is still less than 10, so adding 1 to x\n",
      "continuing\n"
     ]
    }
   ],
   "source": [
    "x = 0\n",
    "while x < 10:\n",
    "    print('x is currently:',x)\n",
    "    print('x is still less than 10, so adding 1 to x')\n",
    "    x = x+ 1\n",
    "    if x == 3:\n",
    "        print('x is equal to 3')\n",
    "    else:\n",
    "        print('continuing')\n",
    "        continue"
   ]
  },
  {
   "cell_type": "code",
   "execution_count": 6,
   "id": "f03956a0",
   "metadata": {},
   "outputs": [
    {
     "name": "stdout",
     "output_type": "stream",
     "text": [
      "x is currently: 0\n",
      "x is still less than 10, so adding 1 to x\n",
      "continuing\n",
      "x is currently: 1\n",
      "x is still less than 10, so adding 1 to x\n",
      "continuing\n",
      "x is currently: 2\n",
      "x is still less than 10, so adding 1 to x\n",
      "breaking at x is equal to 3\n"
     ]
    }
   ],
   "source": [
    "x = 0\n",
    "while x < 10:\n",
    "    print('x is currently:',x)\n",
    "    print('x is still less than 10, so adding 1 to x')\n",
    "    x = x+ 1\n",
    "    if x == 3:\n",
    "        print('breaking at x is equal to 3')\n",
    "        break\n",
    "    else:\n",
    "        print('continuing')\n",
    "        continue"
   ]
  },
  {
   "cell_type": "code",
   "execution_count": 11,
   "id": "cc5996c1",
   "metadata": {},
   "outputs": [
    {
     "name": "stdout",
     "output_type": "stream",
     "text": [
      "1\n",
      "2\n",
      "3\n",
      "4\n",
      "5\n",
      "this is number 6\n",
      "7\n",
      "8\n",
      "9\n",
      "10\n"
     ]
    }
   ],
   "source": [
    "for i in range(1,11):\n",
    "    if i == 6:\n",
    "        print('this is number 6')\n",
    "        continue\n",
    "    else:\n",
    "        print(i)"
   ]
  },
  {
   "cell_type": "code",
   "execution_count": 16,
   "id": "3bfa11bc",
   "metadata": {},
   "outputs": [
    {
     "name": "stdout",
     "output_type": "stream",
     "text": [
      "1\n",
      "2\n",
      "3\n",
      "4\n",
      "6\n",
      "7\n",
      "8\n",
      "9\n"
     ]
    }
   ],
   "source": [
    "nested_lst = [[1,2,3],[4,5,6],[7,8,9]]\n",
    "\n",
    "for i in nested_lst:\n",
    "    for j in i:\n",
    "        if j == 5:\n",
    "            continue\n",
    "        print(j)"
   ]
  },
  {
   "cell_type": "code",
   "execution_count": 15,
   "id": "75833bf2",
   "metadata": {},
   "outputs": [
    {
     "name": "stdout",
     "output_type": "stream",
     "text": [
      "1\n",
      "3\n",
      "5\n",
      "7\n",
      "9\n"
     ]
    }
   ],
   "source": [
    "num = 0 \n",
    "while num < 10:\n",
    "    num = num + 1\n",
    "    if (num%2) == 0:\n",
    "        continue\n",
    "    print(num)"
   ]
  },
  {
   "cell_type": "code",
   "execution_count": null,
   "id": "293d4b05",
   "metadata": {},
   "outputs": [],
   "source": []
  }
 ],
 "metadata": {
  "kernelspec": {
   "display_name": "Python 3 (ipykernel)",
   "language": "python",
   "name": "python3"
  },
  "language_info": {
   "codemirror_mode": {
    "name": "ipython",
    "version": 3
   },
   "file_extension": ".py",
   "mimetype": "text/x-python",
   "name": "python",
   "nbconvert_exporter": "python",
   "pygments_lexer": "ipython3",
   "version": "3.11.5"
  }
 },
 "nbformat": 4,
 "nbformat_minor": 5
}
