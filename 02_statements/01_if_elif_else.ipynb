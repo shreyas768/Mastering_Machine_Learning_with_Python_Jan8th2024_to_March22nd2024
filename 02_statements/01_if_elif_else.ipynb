{
 "cells": [
  {
   "cell_type": "markdown",
   "id": "a24f14d3",
   "metadata": {},
   "source": [
    "if case1:\n",
    "        perform action1\n",
    "elif case2:\n",
    "        perfrom action2\n",
    "else:\n",
    "       perform action3"
   ]
  },
  {
   "cell_type": "code",
   "execution_count": 8,
   "id": "4295bbad",
   "metadata": {},
   "outputs": [
    {
     "name": "stdout",
     "output_type": "stream",
     "text": [
      "Hey it was true\n"
     ]
    }
   ],
   "source": [
    "if 1==1:\n",
    "    print('Hey it was true')"
   ]
  },
  {
   "cell_type": "code",
   "execution_count": 9,
   "id": "7d985f88",
   "metadata": {},
   "outputs": [
    {
     "name": "stdout",
     "output_type": "stream",
     "text": [
      "i am being printed because x was not true\n"
     ]
    }
   ],
   "source": [
    "x = 1 > 2\n",
    "\n",
    "if x:\n",
    "    print('x was True')\n",
    "else:\n",
    "    print('i am being printed because x was not true')"
   ]
  },
  {
   "cell_type": "code",
   "execution_count": 12,
   "id": "fad3572c",
   "metadata": {},
   "outputs": [
    {
     "name": "stdout",
     "output_type": "stream",
     "text": [
      "Hey you are in Park\n"
     ]
    }
   ],
   "source": [
    "location = 'Park'\n",
    "\n",
    "if location == 'Auto shop':\n",
    "    print('Welcome to autoshop')\n",
    "elif location == 'Bank':\n",
    "    print('Welcome to the bank')\n",
    "elif location == 'Park':\n",
    "    print('Hey you are in Park')\n",
    "else:\n",
    "    print('Where are you?')"
   ]
  },
  {
   "cell_type": "markdown",
   "id": "19e4e4b2",
   "metadata": {},
   "source": [
    "#### Write a program that prints the integers from 1 to 100. \n",
    "\n",
    "\n",
    "#### But for multiples of 3, print 'Hello Shreyas'\n",
    "\n",
    "#### for Multiples of 5 print 'Will you be teaching Deep Learning as well?'. \n",
    "\n",
    "#### For multiples of both 3 and 5 print '6th Feb'"
   ]
  },
  {
   "cell_type": "code",
   "execution_count": 2,
   "id": "f9fab840",
   "metadata": {},
   "outputs": [
    {
     "name": "stdout",
     "output_type": "stream",
     "text": [
      "1\n",
      "2\n",
      "Hello Shreyas\n",
      "4\n",
      "Will you be teaching Deep Learning as well?\n",
      "Hello Shreyas\n",
      "7\n",
      "8\n",
      "Hello Shreyas\n",
      "Will you be teaching Deep Learning as well?\n",
      "11\n",
      "Hello Shreyas\n",
      "13\n",
      "14\n",
      "6th Feb\n",
      "16\n",
      "17\n",
      "Hello Shreyas\n",
      "19\n",
      "Will you be teaching Deep Learning as well?\n",
      "Hello Shreyas\n",
      "22\n",
      "23\n",
      "Hello Shreyas\n",
      "Will you be teaching Deep Learning as well?\n",
      "26\n",
      "Hello Shreyas\n",
      "28\n",
      "29\n",
      "6th Feb\n",
      "31\n",
      "32\n",
      "Hello Shreyas\n",
      "34\n",
      "Will you be teaching Deep Learning as well?\n",
      "Hello Shreyas\n",
      "37\n",
      "38\n",
      "Hello Shreyas\n",
      "Will you be teaching Deep Learning as well?\n",
      "41\n",
      "Hello Shreyas\n",
      "43\n",
      "44\n",
      "6th Feb\n",
      "46\n",
      "47\n",
      "Hello Shreyas\n",
      "49\n",
      "Will you be teaching Deep Learning as well?\n",
      "Hello Shreyas\n",
      "52\n",
      "53\n",
      "Hello Shreyas\n",
      "Will you be teaching Deep Learning as well?\n",
      "56\n",
      "Hello Shreyas\n",
      "58\n",
      "59\n",
      "6th Feb\n",
      "61\n",
      "62\n",
      "Hello Shreyas\n",
      "64\n",
      "Will you be teaching Deep Learning as well?\n",
      "Hello Shreyas\n",
      "67\n",
      "68\n",
      "Hello Shreyas\n",
      "Will you be teaching Deep Learning as well?\n",
      "71\n",
      "Hello Shreyas\n",
      "73\n",
      "74\n",
      "6th Feb\n",
      "76\n",
      "77\n",
      "Hello Shreyas\n",
      "79\n",
      "Will you be teaching Deep Learning as well?\n",
      "Hello Shreyas\n",
      "82\n",
      "83\n",
      "Hello Shreyas\n",
      "Will you be teaching Deep Learning as well?\n",
      "86\n",
      "Hello Shreyas\n",
      "88\n",
      "89\n",
      "6th Feb\n",
      "91\n",
      "92\n",
      "Hello Shreyas\n",
      "94\n",
      "Will you be teaching Deep Learning as well?\n",
      "Hello Shreyas\n",
      "97\n",
      "98\n",
      "Hello Shreyas\n",
      "Will you be teaching Deep Learning as well?\n"
     ]
    }
   ],
   "source": [
    "for x in range(1,101):\n",
    "    if x%3 == 0 and x%5==0:\n",
    "        print('6th Feb')\n",
    "    elif x%5 == 0:\n",
    "        print('Will you be teaching Deep Learning as well?')\n",
    "    elif  x%3==0:\n",
    "        print('Hello Shreyas')\n",
    "    else:\n",
    "        print(x)"
   ]
  },
  {
   "cell_type": "code",
   "execution_count": null,
   "id": "69dc5478",
   "metadata": {},
   "outputs": [],
   "source": []
  }
 ],
 "metadata": {
  "kernelspec": {
   "display_name": "Python 3 (ipykernel)",
   "language": "python",
   "name": "python3"
  },
  "language_info": {
   "codemirror_mode": {
    "name": "ipython",
    "version": 3
   },
   "file_extension": ".py",
   "mimetype": "text/x-python",
   "name": "python",
   "nbconvert_exporter": "python",
   "pygments_lexer": "ipython3",
   "version": "3.11.5"
  }
 },
 "nbformat": 4,
 "nbformat_minor": 5
}
