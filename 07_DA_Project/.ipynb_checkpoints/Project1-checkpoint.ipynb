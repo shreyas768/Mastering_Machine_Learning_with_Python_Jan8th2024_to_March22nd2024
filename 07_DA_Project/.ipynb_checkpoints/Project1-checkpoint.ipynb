{
 "cells": [
  {
   "cell_type": "code",
   "execution_count": null,
   "metadata": {
    "id": "I3jHnyYp6SI1"
   },
   "outputs": [],
   "source": []
  },
  {
   "cell_type": "markdown",
   "metadata": {
    "id": "z9G47g966W6L"
   },
   "source": [
    "## Import Libraries"
   ]
  },
  {
   "cell_type": "code",
   "execution_count": 1,
   "metadata": {
    "executionInfo": {
     "elapsed": 2185,
     "status": "ok",
     "timestamp": 1706275053439,
     "user": {
      "displayName": "Shreyas Shukla",
      "userId": "13054708533584749988"
     },
     "user_tz": -330
    },
    "id": "XCTzBKOi6rKk"
   },
   "outputs": [],
   "source": [
    "import numpy as np\n",
    "import pandas as pd\n",
    "import matplotlib.pyplot as plt\n",
    "import seaborn as sns"
   ]
  },
  {
   "cell_type": "code",
   "execution_count": 2,
   "metadata": {
    "colab": {
     "base_uri": "https://localhost:8080/"
    },
    "executionInfo": {
     "elapsed": 958,
     "status": "ok",
     "timestamp": 1706275623029,
     "user": {
      "displayName": "Shreyas Shukla",
      "userId": "13054708533584749988"
     },
     "user_tz": -330
    },
    "id": "_wuw1jEN6xPR",
    "outputId": "3be8717b-de23-45e1-c897-19f67f1a2ccd"
   },
   "outputs": [],
   "source": [
    "df = pd.read_csv('911.csv')"
   ]
  },
  {
   "cell_type": "code",
   "execution_count": 3,
   "metadata": {
    "colab": {
     "base_uri": "https://localhost:8080/"
    },
    "executionInfo": {
     "elapsed": 581,
     "status": "ok",
     "timestamp": 1706275627305,
     "user": {
      "displayName": "Shreyas Shukla",
      "userId": "13054708533584749988"
     },
     "user_tz": -330
    },
    "id": "afgNpnpi7Ajm",
    "outputId": "53a043d6-74f0-4da1-a158-5eb1893c56ab"
   },
   "outputs": [
    {
     "data": {
      "text/plain": [
       "(99492, 9)"
      ]
     },
     "execution_count": 3,
     "metadata": {},
     "output_type": "execute_result"
    }
   ],
   "source": [
    "df.shape"
   ]
  },
  {
   "cell_type": "code",
   "execution_count": 4,
   "metadata": {
    "colab": {
     "base_uri": "https://localhost:8080/",
     "height": 293
    },
    "executionInfo": {
     "elapsed": 6,
     "status": "ok",
     "timestamp": 1706275267961,
     "user": {
      "displayName": "Shreyas Shukla",
      "userId": "13054708533584749988"
     },
     "user_tz": -330
    },
    "id": "m5_9VkeH7edH",
    "outputId": "726a455f-0316-4358-9613-2ac85e727c66"
   },
   "outputs": [
    {
     "data": {
      "text/html": [
       "<div>\n",
       "<style scoped>\n",
       "    .dataframe tbody tr th:only-of-type {\n",
       "        vertical-align: middle;\n",
       "    }\n",
       "\n",
       "    .dataframe tbody tr th {\n",
       "        vertical-align: top;\n",
       "    }\n",
       "\n",
       "    .dataframe thead th {\n",
       "        text-align: right;\n",
       "    }\n",
       "</style>\n",
       "<table border=\"1\" class=\"dataframe\">\n",
       "  <thead>\n",
       "    <tr style=\"text-align: right;\">\n",
       "      <th></th>\n",
       "      <th>lat</th>\n",
       "      <th>lng</th>\n",
       "      <th>desc</th>\n",
       "      <th>zip</th>\n",
       "      <th>title</th>\n",
       "      <th>timeStamp</th>\n",
       "      <th>twp</th>\n",
       "      <th>addr</th>\n",
       "      <th>e</th>\n",
       "    </tr>\n",
       "  </thead>\n",
       "  <tbody>\n",
       "    <tr>\n",
       "      <th>0</th>\n",
       "      <td>40.297876</td>\n",
       "      <td>-75.581294</td>\n",
       "      <td>REINDEER CT &amp; DEAD END;  NEW HANOVER; Station ...</td>\n",
       "      <td>19525.0</td>\n",
       "      <td>EMS: BACK PAINS/INJURY</td>\n",
       "      <td>2015-12-10 17:40:00</td>\n",
       "      <td>NEW HANOVER</td>\n",
       "      <td>REINDEER CT &amp; DEAD END</td>\n",
       "      <td>1</td>\n",
       "    </tr>\n",
       "    <tr>\n",
       "      <th>1</th>\n",
       "      <td>40.258061</td>\n",
       "      <td>-75.264680</td>\n",
       "      <td>BRIAR PATH &amp; WHITEMARSH LN;  HATFIELD TOWNSHIP...</td>\n",
       "      <td>19446.0</td>\n",
       "      <td>EMS: DIABETIC EMERGENCY</td>\n",
       "      <td>2015-12-10 17:40:00</td>\n",
       "      <td>HATFIELD TOWNSHIP</td>\n",
       "      <td>BRIAR PATH &amp; WHITEMARSH LN</td>\n",
       "      <td>1</td>\n",
       "    </tr>\n",
       "    <tr>\n",
       "      <th>2</th>\n",
       "      <td>40.121182</td>\n",
       "      <td>-75.351975</td>\n",
       "      <td>HAWS AVE; NORRISTOWN; 2015-12-10 @ 14:39:21-St...</td>\n",
       "      <td>19401.0</td>\n",
       "      <td>Fire: GAS-ODOR/LEAK</td>\n",
       "      <td>2015-12-10 17:40:00</td>\n",
       "      <td>NORRISTOWN</td>\n",
       "      <td>HAWS AVE</td>\n",
       "      <td>1</td>\n",
       "    </tr>\n",
       "    <tr>\n",
       "      <th>3</th>\n",
       "      <td>40.116153</td>\n",
       "      <td>-75.343513</td>\n",
       "      <td>AIRY ST &amp; SWEDE ST;  NORRISTOWN; Station 308A;...</td>\n",
       "      <td>19401.0</td>\n",
       "      <td>EMS: CARDIAC EMERGENCY</td>\n",
       "      <td>2015-12-10 17:40:01</td>\n",
       "      <td>NORRISTOWN</td>\n",
       "      <td>AIRY ST &amp; SWEDE ST</td>\n",
       "      <td>1</td>\n",
       "    </tr>\n",
       "    <tr>\n",
       "      <th>4</th>\n",
       "      <td>40.251492</td>\n",
       "      <td>-75.603350</td>\n",
       "      <td>CHERRYWOOD CT &amp; DEAD END;  LOWER POTTSGROVE; S...</td>\n",
       "      <td>NaN</td>\n",
       "      <td>EMS: DIZZINESS</td>\n",
       "      <td>2015-12-10 17:40:01</td>\n",
       "      <td>LOWER POTTSGROVE</td>\n",
       "      <td>CHERRYWOOD CT &amp; DEAD END</td>\n",
       "      <td>1</td>\n",
       "    </tr>\n",
       "  </tbody>\n",
       "</table>\n",
       "</div>"
      ],
      "text/plain": [
       "         lat        lng                                               desc  \\\n",
       "0  40.297876 -75.581294  REINDEER CT & DEAD END;  NEW HANOVER; Station ...   \n",
       "1  40.258061 -75.264680  BRIAR PATH & WHITEMARSH LN;  HATFIELD TOWNSHIP...   \n",
       "2  40.121182 -75.351975  HAWS AVE; NORRISTOWN; 2015-12-10 @ 14:39:21-St...   \n",
       "3  40.116153 -75.343513  AIRY ST & SWEDE ST;  NORRISTOWN; Station 308A;...   \n",
       "4  40.251492 -75.603350  CHERRYWOOD CT & DEAD END;  LOWER POTTSGROVE; S...   \n",
       "\n",
       "       zip                    title            timeStamp                twp  \\\n",
       "0  19525.0   EMS: BACK PAINS/INJURY  2015-12-10 17:40:00        NEW HANOVER   \n",
       "1  19446.0  EMS: DIABETIC EMERGENCY  2015-12-10 17:40:00  HATFIELD TOWNSHIP   \n",
       "2  19401.0      Fire: GAS-ODOR/LEAK  2015-12-10 17:40:00         NORRISTOWN   \n",
       "3  19401.0   EMS: CARDIAC EMERGENCY  2015-12-10 17:40:01         NORRISTOWN   \n",
       "4      NaN           EMS: DIZZINESS  2015-12-10 17:40:01   LOWER POTTSGROVE   \n",
       "\n",
       "                         addr  e  \n",
       "0      REINDEER CT & DEAD END  1  \n",
       "1  BRIAR PATH & WHITEMARSH LN  1  \n",
       "2                    HAWS AVE  1  \n",
       "3          AIRY ST & SWEDE ST  1  \n",
       "4    CHERRYWOOD CT & DEAD END  1  "
      ]
     },
     "execution_count": 4,
     "metadata": {},
     "output_type": "execute_result"
    }
   ],
   "source": [
    "df.head()"
   ]
  },
  {
   "cell_type": "code",
   "execution_count": 5,
   "metadata": {
    "colab": {
     "base_uri": "https://localhost:8080/"
    },
    "executionInfo": {
     "elapsed": 581,
     "status": "ok",
     "timestamp": 1706275310160,
     "user": {
      "displayName": "Shreyas Shukla",
      "userId": "13054708533584749988"
     },
     "user_tz": -330
    },
    "id": "_5UCeDxf7l6_",
    "outputId": "1d8988d2-9047-4083-9ff7-42e0578c24bf"
   },
   "outputs": [
    {
     "data": {
      "text/plain": [
       "99492"
      ]
     },
     "execution_count": 5,
     "metadata": {},
     "output_type": "execute_result"
    }
   ],
   "source": [
    "len(df)"
   ]
  },
  {
   "cell_type": "code",
   "execution_count": 6,
   "metadata": {
    "colab": {
     "base_uri": "https://localhost:8080/",
     "height": 536
    },
    "executionInfo": {
     "elapsed": 901,
     "status": "ok",
     "timestamp": 1706276197092,
     "user": {
      "displayName": "Shreyas Shukla",
      "userId": "13054708533584749988"
     },
     "user_tz": -330
    },
    "id": "YHiItRHa7wMJ",
    "outputId": "9c5da65c-9cea-422c-cce4-c92c9b7117cc"
   },
   "outputs": [
    {
     "data": {
      "text/html": [
       "<div>\n",
       "<style scoped>\n",
       "    .dataframe tbody tr th:only-of-type {\n",
       "        vertical-align: middle;\n",
       "    }\n",
       "\n",
       "    .dataframe tbody tr th {\n",
       "        vertical-align: top;\n",
       "    }\n",
       "\n",
       "    .dataframe thead th {\n",
       "        text-align: right;\n",
       "    }\n",
       "</style>\n",
       "<table border=\"1\" class=\"dataframe\">\n",
       "  <thead>\n",
       "    <tr style=\"text-align: right;\">\n",
       "      <th></th>\n",
       "      <th>lat</th>\n",
       "      <th>lng</th>\n",
       "      <th>desc</th>\n",
       "      <th>zip</th>\n",
       "      <th>title</th>\n",
       "      <th>timeStamp</th>\n",
       "      <th>twp</th>\n",
       "      <th>addr</th>\n",
       "      <th>e</th>\n",
       "    </tr>\n",
       "  </thead>\n",
       "  <tbody>\n",
       "    <tr>\n",
       "      <th>82072</th>\n",
       "      <td>40.154698</td>\n",
       "      <td>-75.139243</td>\n",
       "      <td>WELSH RD &amp; COMPUTER AVE; UPPER MORELAND; 2016-...</td>\n",
       "      <td>19090.0</td>\n",
       "      <td>Traffic: VEHICLE ACCIDENT -</td>\n",
       "      <td>2016-07-11 16:01:02</td>\n",
       "      <td>UPPER MORELAND</td>\n",
       "      <td>WELSH RD &amp; COMPUTER AVE</td>\n",
       "      <td>1</td>\n",
       "    </tr>\n",
       "    <tr>\n",
       "      <th>693</th>\n",
       "      <td>40.228899</td>\n",
       "      <td>-75.262461</td>\n",
       "      <td>WELSH RD &amp; NORTH WALES RD; MONTGOMERY; 2015-12...</td>\n",
       "      <td>19454.0</td>\n",
       "      <td>Traffic: VEHICLE ACCIDENT -</td>\n",
       "      <td>2015-12-12 14:51:03</td>\n",
       "      <td>MONTGOMERY</td>\n",
       "      <td>WELSH RD &amp; NORTH WALES RD</td>\n",
       "      <td>1</td>\n",
       "    </tr>\n",
       "    <tr>\n",
       "      <th>47834</th>\n",
       "      <td>40.037753</td>\n",
       "      <td>-75.317595</td>\n",
       "      <td>ITHAN AVE &amp; POND LN;  LOWER MERION; Station 31...</td>\n",
       "      <td>19010.0</td>\n",
       "      <td>EMS: ABDOMINAL PAINS</td>\n",
       "      <td>2016-04-11 12:57:00</td>\n",
       "      <td>LOWER MERION</td>\n",
       "      <td>ITHAN AVE &amp; POND LN</td>\n",
       "      <td>1</td>\n",
       "    </tr>\n",
       "    <tr>\n",
       "      <th>8892</th>\n",
       "      <td>40.105108</td>\n",
       "      <td>-75.345184</td>\n",
       "      <td>DEKALB ST &amp; RR UNDERPASS;  BRIDGEPORT; Station...</td>\n",
       "      <td>NaN</td>\n",
       "      <td>EMS: VEHICLE ACCIDENT</td>\n",
       "      <td>2016-01-04 00:26:00</td>\n",
       "      <td>BRIDGEPORT</td>\n",
       "      <td>DEKALB ST &amp; RR UNDERPASS</td>\n",
       "      <td>1</td>\n",
       "    </tr>\n",
       "    <tr>\n",
       "      <th>14474</th>\n",
       "      <td>40.002296</td>\n",
       "      <td>-75.238590</td>\n",
       "      <td>HIGHLAND CIR &amp; N HIGHLAND AVE;  LOWER MERION; ...</td>\n",
       "      <td>19004.0</td>\n",
       "      <td>EMS: MEDICAL ALERT ALARM</td>\n",
       "      <td>2016-01-17 16:27:00</td>\n",
       "      <td>LOWER MERION</td>\n",
       "      <td>HIGHLAND CIR &amp; N HIGHLAND AVE</td>\n",
       "      <td>1</td>\n",
       "    </tr>\n",
       "    <tr>\n",
       "      <th>38325</th>\n",
       "      <td>40.159879</td>\n",
       "      <td>-75.134461</td>\n",
       "      <td>MARYLAND RD &amp; COMPUTER AVE;  UPPER MORELAND; S...</td>\n",
       "      <td>19090.0</td>\n",
       "      <td>EMS: SUBJECT IN PAIN</td>\n",
       "      <td>2016-03-16 12:37:00</td>\n",
       "      <td>UPPER MORELAND</td>\n",
       "      <td>MARYLAND RD &amp; COMPUTER AVE</td>\n",
       "      <td>1</td>\n",
       "    </tr>\n",
       "    <tr>\n",
       "      <th>15797</th>\n",
       "      <td>40.102501</td>\n",
       "      <td>-75.291349</td>\n",
       "      <td>RAMP I476 NB TO CHEMICAL RD &amp; CHEMICAL RD; PLY...</td>\n",
       "      <td>19462.0</td>\n",
       "      <td>Traffic: VEHICLE ACCIDENT -</td>\n",
       "      <td>2016-01-21 08:32:00</td>\n",
       "      <td>PLYMOUTH</td>\n",
       "      <td>RAMP I476 NB TO CHEMICAL RD &amp; CHEMICAL RD</td>\n",
       "      <td>1</td>\n",
       "    </tr>\n",
       "    <tr>\n",
       "      <th>77061</th>\n",
       "      <td>40.008346</td>\n",
       "      <td>-75.293881</td>\n",
       "      <td>ARDMORE AVE &amp; W ATHENS AVE;  LOWER MERION; Sta...</td>\n",
       "      <td>19003.0</td>\n",
       "      <td>EMS: FALL VICTIM</td>\n",
       "      <td>2016-06-27 22:57:00</td>\n",
       "      <td>LOWER MERION</td>\n",
       "      <td>ARDMORE AVE &amp; W ATHENS AVE</td>\n",
       "      <td>1</td>\n",
       "    </tr>\n",
       "    <tr>\n",
       "      <th>25472</th>\n",
       "      <td>40.078276</td>\n",
       "      <td>-75.249852</td>\n",
       "      <td>RIDGE PIKE &amp; BARREN HILL RD;  WHITEMARSH; Stat...</td>\n",
       "      <td>19444.0</td>\n",
       "      <td>EMS: NAUSEA/VOMITING</td>\n",
       "      <td>2016-02-12 08:02:01</td>\n",
       "      <td>WHITEMARSH</td>\n",
       "      <td>RIDGE PIKE &amp; BARREN HILL RD</td>\n",
       "      <td>1</td>\n",
       "    </tr>\n",
       "    <tr>\n",
       "      <th>41527</th>\n",
       "      <td>40.135842</td>\n",
       "      <td>-75.166286</td>\n",
       "      <td>DRESHERTOWN RD &amp; N LIMEKILN PIKE; UPPER DUBLIN...</td>\n",
       "      <td>19025.0</td>\n",
       "      <td>Traffic: VEHICLE ACCIDENT -</td>\n",
       "      <td>2016-03-25 16:42:01</td>\n",
       "      <td>UPPER DUBLIN</td>\n",
       "      <td>DRESHERTOWN RD &amp; N LIMEKILN PIKE</td>\n",
       "      <td>1</td>\n",
       "    </tr>\n",
       "  </tbody>\n",
       "</table>\n",
       "</div>"
      ],
      "text/plain": [
       "             lat        lng  \\\n",
       "82072  40.154698 -75.139243   \n",
       "693    40.228899 -75.262461   \n",
       "47834  40.037753 -75.317595   \n",
       "8892   40.105108 -75.345184   \n",
       "14474  40.002296 -75.238590   \n",
       "38325  40.159879 -75.134461   \n",
       "15797  40.102501 -75.291349   \n",
       "77061  40.008346 -75.293881   \n",
       "25472  40.078276 -75.249852   \n",
       "41527  40.135842 -75.166286   \n",
       "\n",
       "                                                    desc      zip  \\\n",
       "82072  WELSH RD & COMPUTER AVE; UPPER MORELAND; 2016-...  19090.0   \n",
       "693    WELSH RD & NORTH WALES RD; MONTGOMERY; 2015-12...  19454.0   \n",
       "47834  ITHAN AVE & POND LN;  LOWER MERION; Station 31...  19010.0   \n",
       "8892   DEKALB ST & RR UNDERPASS;  BRIDGEPORT; Station...      NaN   \n",
       "14474  HIGHLAND CIR & N HIGHLAND AVE;  LOWER MERION; ...  19004.0   \n",
       "38325  MARYLAND RD & COMPUTER AVE;  UPPER MORELAND; S...  19090.0   \n",
       "15797  RAMP I476 NB TO CHEMICAL RD & CHEMICAL RD; PLY...  19462.0   \n",
       "77061  ARDMORE AVE & W ATHENS AVE;  LOWER MERION; Sta...  19003.0   \n",
       "25472  RIDGE PIKE & BARREN HILL RD;  WHITEMARSH; Stat...  19444.0   \n",
       "41527  DRESHERTOWN RD & N LIMEKILN PIKE; UPPER DUBLIN...  19025.0   \n",
       "\n",
       "                             title            timeStamp             twp  \\\n",
       "82072  Traffic: VEHICLE ACCIDENT -  2016-07-11 16:01:02  UPPER MORELAND   \n",
       "693    Traffic: VEHICLE ACCIDENT -  2015-12-12 14:51:03      MONTGOMERY   \n",
       "47834         EMS: ABDOMINAL PAINS  2016-04-11 12:57:00    LOWER MERION   \n",
       "8892         EMS: VEHICLE ACCIDENT  2016-01-04 00:26:00      BRIDGEPORT   \n",
       "14474     EMS: MEDICAL ALERT ALARM  2016-01-17 16:27:00    LOWER MERION   \n",
       "38325         EMS: SUBJECT IN PAIN  2016-03-16 12:37:00  UPPER MORELAND   \n",
       "15797  Traffic: VEHICLE ACCIDENT -  2016-01-21 08:32:00        PLYMOUTH   \n",
       "77061             EMS: FALL VICTIM  2016-06-27 22:57:00    LOWER MERION   \n",
       "25472         EMS: NAUSEA/VOMITING  2016-02-12 08:02:01      WHITEMARSH   \n",
       "41527  Traffic: VEHICLE ACCIDENT -  2016-03-25 16:42:01    UPPER DUBLIN   \n",
       "\n",
       "                                            addr  e  \n",
       "82072                    WELSH RD & COMPUTER AVE  1  \n",
       "693                    WELSH RD & NORTH WALES RD  1  \n",
       "47834                        ITHAN AVE & POND LN  1  \n",
       "8892                    DEKALB ST & RR UNDERPASS  1  \n",
       "14474              HIGHLAND CIR & N HIGHLAND AVE  1  \n",
       "38325                 MARYLAND RD & COMPUTER AVE  1  \n",
       "15797  RAMP I476 NB TO CHEMICAL RD & CHEMICAL RD  1  \n",
       "77061                 ARDMORE AVE & W ATHENS AVE  1  \n",
       "25472                RIDGE PIKE & BARREN HILL RD  1  \n",
       "41527           DRESHERTOWN RD & N LIMEKILN PIKE  1  "
      ]
     },
     "execution_count": 6,
     "metadata": {},
     "output_type": "execute_result"
    }
   ],
   "source": [
    "df.sample(10)"
   ]
  },
  {
   "cell_type": "code",
   "execution_count": 7,
   "metadata": {
    "colab": {
     "base_uri": "https://localhost:8080/"
    },
    "executionInfo": {
     "elapsed": 691,
     "status": "ok",
     "timestamp": 1706275426020,
     "user": {
      "displayName": "Shreyas Shukla",
      "userId": "13054708533584749988"
     },
     "user_tz": -330
    },
    "id": "OnrD4RFo8FB6",
    "outputId": "ad1f1da3-b5a8-4395-87a2-2cdc0dade08f"
   },
   "outputs": [
    {
     "data": {
      "text/plain": [
       "0        False\n",
       "1        False\n",
       "2        False\n",
       "3        False\n",
       "4        False\n",
       "         ...  \n",
       "99487    False\n",
       "99488    False\n",
       "99489    False\n",
       "99490    False\n",
       "99491    False\n",
       "Length: 99492, dtype: bool"
      ]
     },
     "execution_count": 7,
     "metadata": {},
     "output_type": "execute_result"
    }
   ],
   "source": [
    "df.duplicated()"
   ]
  },
  {
   "cell_type": "code",
   "execution_count": 8,
   "metadata": {
    "colab": {
     "base_uri": "https://localhost:8080/"
    },
    "executionInfo": {
     "elapsed": 685,
     "status": "ok",
     "timestamp": 1706275854353,
     "user": {
      "displayName": "Shreyas Shukla",
      "userId": "13054708533584749988"
     },
     "user_tz": -330
    },
    "id": "dz0YomFL9li5",
    "outputId": "a7b3c789-c1d8-4131-b65d-6846c82fac9a"
   },
   "outputs": [
    {
     "data": {
      "text/plain": [
       "(99492, 9)"
      ]
     },
     "execution_count": 8,
     "metadata": {},
     "output_type": "execute_result"
    }
   ],
   "source": [
    "df = df.drop_duplicates()\n",
    "df.shape"
   ]
  },
  {
   "cell_type": "code",
   "execution_count": 9,
   "metadata": {
    "colab": {
     "base_uri": "https://localhost:8080/"
    },
    "executionInfo": {
     "elapsed": 891,
     "status": "ok",
     "timestamp": 1706275552636,
     "user": {
      "displayName": "Shreyas Shukla",
      "userId": "13054708533584749988"
     },
     "user_tz": -330
    },
    "id": "b1zuZ6rA8YPt",
    "outputId": "5c6879aa-e8e3-42cd-88d2-1a69298759d4"
   },
   "outputs": [
    {
     "name": "stdout",
     "output_type": "stream",
     "text": [
      "<class 'pandas.core.frame.DataFrame'>\n",
      "RangeIndex: 99492 entries, 0 to 99491\n",
      "Data columns (total 9 columns):\n",
      " #   Column     Non-Null Count  Dtype  \n",
      "---  ------     --------------  -----  \n",
      " 0   lat        99492 non-null  float64\n",
      " 1   lng        99492 non-null  float64\n",
      " 2   desc       99492 non-null  object \n",
      " 3   zip        86637 non-null  float64\n",
      " 4   title      99492 non-null  object \n",
      " 5   timeStamp  99492 non-null  object \n",
      " 6   twp        99449 non-null  object \n",
      " 7   addr       98973 non-null  object \n",
      " 8   e          99492 non-null  int64  \n",
      "dtypes: float64(3), int64(1), object(5)\n",
      "memory usage: 6.8+ MB\n"
     ]
    }
   ],
   "source": [
    "df.info()"
   ]
  },
  {
   "cell_type": "code",
   "execution_count": 10,
   "metadata": {
    "colab": {
     "base_uri": "https://localhost:8080/"
    },
    "executionInfo": {
     "elapsed": 883,
     "status": "ok",
     "timestamp": 1706276032962,
     "user": {
      "displayName": "Shreyas Shukla",
      "userId": "13054708533584749988"
     },
     "user_tz": -330
    },
    "id": "cf-fpAZQ8rac",
    "outputId": "ecf0e2e1-7744-4fb4-de09-cd61885c3077"
   },
   "outputs": [
    {
     "data": {
      "text/plain": [
       "zip\n",
       "19401.0    6979\n",
       "19464.0    6643\n",
       "19403.0    4854\n",
       "19446.0    4748\n",
       "19406.0    3174\n",
       "Name: count, dtype: int64"
      ]
     },
     "execution_count": 10,
     "metadata": {},
     "output_type": "execute_result"
    }
   ],
   "source": [
    "#What are top 5 zipcodes with most number of 911 calls\n",
    "df['zip'].value_counts().head(5)"
   ]
  },
  {
   "cell_type": "code",
   "execution_count": 11,
   "metadata": {
    "colab": {
     "base_uri": "https://localhost:8080/"
    },
    "executionInfo": {
     "elapsed": 596,
     "status": "ok",
     "timestamp": 1706276129201,
     "user": {
      "displayName": "Shreyas Shukla",
      "userId": "13054708533584749988"
     },
     "user_tz": -330
    },
    "id": "Z25IYw8z-MHA",
    "outputId": "b255718f-f26e-4a09-bd76-c33adb33530f"
   },
   "outputs": [
    {
     "data": {
      "text/plain": [
       "110"
      ]
     },
     "execution_count": 11,
     "metadata": {},
     "output_type": "execute_result"
    }
   ],
   "source": [
    "#how many unique title codes are there?\n",
    "df['title'].nunique()"
   ]
  },
  {
   "cell_type": "code",
   "execution_count": 12,
   "metadata": {
    "colab": {
     "base_uri": "https://localhost:8080/"
    },
    "executionInfo": {
     "elapsed": 856,
     "status": "ok",
     "timestamp": 1706277015364,
     "user": {
      "displayName": "Shreyas Shukla",
      "userId": "13054708533584749988"
     },
     "user_tz": -330
    },
    "id": "3Q2aUMEMB1Hd",
    "outputId": "4ee0e345-57fa-4873-d982-542a642490a2"
   },
   "outputs": [
    {
     "data": {
      "text/plain": [
       "0             [EMS,  BACK PAINS/INJURY]\n",
       "1            [EMS,  DIABETIC EMERGENCY]\n",
       "2                [Fire,  GAS-ODOR/LEAK]\n",
       "3             [EMS,  CARDIAC EMERGENCY]\n",
       "4                     [EMS,  DIZZINESS]\n",
       "                      ...              \n",
       "99487    [Traffic,  VEHICLE ACCIDENT -]\n",
       "99488    [Traffic,  VEHICLE ACCIDENT -]\n",
       "99489               [EMS,  FALL VICTIM]\n",
       "99490           [EMS,  NAUSEA/VOMITING]\n",
       "99491    [Traffic,  VEHICLE ACCIDENT -]\n",
       "Name: title, Length: 99492, dtype: object"
      ]
     },
     "execution_count": 12,
     "metadata": {},
     "output_type": "execute_result"
    }
   ],
   "source": [
    "df['title'].str.split(':')"
   ]
  },
  {
   "cell_type": "code",
   "execution_count": 13,
   "metadata": {
    "colab": {
     "base_uri": "https://localhost:8080/",
     "height": 357
    },
    "executionInfo": {
     "elapsed": 848,
     "status": "error",
     "timestamp": 1706277159466,
     "user": {
      "displayName": "Shreyas Shukla",
      "userId": "13054708533584749988"
     },
     "user_tz": -330
    },
    "id": "T5g994DJ-2Vy",
    "outputId": "bb6f9cd6-90d3-45ac-fdfb-eef8f2ce8bdc"
   },
   "outputs": [],
   "source": [
    "#Create a column 'reason' with reason of 911 calls\n",
    "df['reason'] = df['title'].apply(lambda x: x.split(':')[0])\n",
    "\n",
    "#apply"
   ]
  },
  {
   "cell_type": "code",
   "execution_count": null,
   "metadata": {
    "colab": {
     "base_uri": "https://localhost:8080/"
    },
    "executionInfo": {
     "elapsed": 860,
     "status": "ok",
     "timestamp": 1706277408961,
     "user": {
      "displayName": "Shreyas Shukla",
      "userId": "13054708533584749988"
     },
     "user_tz": -330
    },
    "id": "UM4PymtqCoQQ",
    "outputId": "92314764-9eac-4ce0-a50d-e36afffce58d"
   },
   "outputs": [],
   "source": []
  },
  {
   "cell_type": "code",
   "execution_count": 15,
   "metadata": {
    "id": "m_EHfTlKDqKn"
   },
   "outputs": [
    {
     "data": {
      "text/plain": [
       "0            EMS\n",
       "1            EMS\n",
       "2           Fire\n",
       "3            EMS\n",
       "4            EMS\n",
       "          ...   \n",
       "99487    Traffic\n",
       "99488    Traffic\n",
       "99489        EMS\n",
       "99490        EMS\n",
       "99491    Traffic\n",
       "Name: reason, Length: 99492, dtype: object"
      ]
     },
     "execution_count": 15,
     "metadata": {},
     "output_type": "execute_result"
    }
   ],
   "source": [
    "df['reason']"
   ]
  },
  {
   "cell_type": "code",
   "execution_count": null,
   "metadata": {},
   "outputs": [],
   "source": []
  }
 ],
 "metadata": {
  "colab": {
   "authorship_tag": "ABX9TyMwKvpNlL08VMkIk7PRV4/W",
   "provenance": []
  },
  "kernelspec": {
   "display_name": "Python 3 (ipykernel)",
   "language": "python",
   "name": "python3"
  },
  "language_info": {
   "codemirror_mode": {
    "name": "ipython",
    "version": 3
   },
   "file_extension": ".py",
   "mimetype": "text/x-python",
   "name": "python",
   "nbconvert_exporter": "python",
   "pygments_lexer": "ipython3",
   "version": "3.11.5"
  }
 },
 "nbformat": 4,
 "nbformat_minor": 1
}
