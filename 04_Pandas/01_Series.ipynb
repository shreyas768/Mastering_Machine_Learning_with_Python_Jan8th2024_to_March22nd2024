{
 "cells": [
  {
   "cell_type": "markdown",
   "id": "11f28106",
   "metadata": {},
   "source": [
    "Series is very similar to NumPy array, only difference is that a series can have axis labels"
   ]
  },
  {
   "cell_type": "code",
   "execution_count": 1,
   "id": "df08155f",
   "metadata": {},
   "outputs": [],
   "source": [
    "import numpy as np\n",
    "import pandas as pd"
   ]
  },
  {
   "cell_type": "code",
   "execution_count": 3,
   "id": "ba00af2a",
   "metadata": {},
   "outputs": [],
   "source": [
    "#help(pd.Series)"
   ]
  },
  {
   "cell_type": "code",
   "execution_count": 4,
   "id": "4d6de265",
   "metadata": {},
   "outputs": [],
   "source": [
    "myindex = ['USA','Mexico','Canada']\n",
    "mydata = [1776,1821,1867]"
   ]
  },
  {
   "cell_type": "code",
   "execution_count": 5,
   "id": "4264bd10",
   "metadata": {},
   "outputs": [
    {
     "data": {
      "text/plain": [
       "0    1776\n",
       "1    1821\n",
       "2    1867\n",
       "dtype: int64"
      ]
     },
     "execution_count": 5,
     "metadata": {},
     "output_type": "execute_result"
    }
   ],
   "source": [
    "pd.Series(data=mydata)"
   ]
  },
  {
   "cell_type": "code",
   "execution_count": 15,
   "id": "78bfc4c7",
   "metadata": {},
   "outputs": [
    {
     "data": {
      "text/plain": [
       "USA       1776\n",
       "Mexico    1821\n",
       "Canada    1867\n",
       "dtype: int64"
      ]
     },
     "execution_count": 15,
     "metadata": {},
     "output_type": "execute_result"
    }
   ],
   "source": [
    "myser = pd.Series(index=myindex,data=mydata)\n",
    "myser"
   ]
  },
  {
   "cell_type": "code",
   "execution_count": 13,
   "id": "ee0055fc",
   "metadata": {},
   "outputs": [
    {
     "data": {
      "text/plain": [
       "pandas.core.series.Series"
      ]
     },
     "execution_count": 13,
     "metadata": {},
     "output_type": "execute_result"
    }
   ],
   "source": [
    "type(myser)"
   ]
  },
  {
   "cell_type": "code",
   "execution_count": 14,
   "id": "d2fa8ed3",
   "metadata": {},
   "outputs": [
    {
     "data": {
      "text/plain": [
       "array([35, 67, 77, 15])"
      ]
     },
     "execution_count": 14,
     "metadata": {},
     "output_type": "execute_result"
    }
   ],
   "source": [
    "age = np.random.randint(0,80,4)\n",
    "age"
   ]
  },
  {
   "cell_type": "code",
   "execution_count": 10,
   "id": "1e79c4d7",
   "metadata": {},
   "outputs": [],
   "source": [
    "names = ['aditya', 'arul', 'bhavya', 'amrita']"
   ]
  },
  {
   "cell_type": "code",
   "execution_count": 18,
   "id": "a10ff9e4",
   "metadata": {},
   "outputs": [],
   "source": [
    "myser1 = pd.Series(names,age)"
   ]
  },
  {
   "cell_type": "code",
   "execution_count": 20,
   "id": "d907e067",
   "metadata": {},
   "outputs": [
    {
     "data": {
      "text/plain": [
       "'arul'"
      ]
     },
     "execution_count": 20,
     "metadata": {},
     "output_type": "execute_result"
    }
   ],
   "source": [
    "myser1[67]"
   ]
  },
  {
   "cell_type": "code",
   "execution_count": 21,
   "id": "2c9f4c35",
   "metadata": {},
   "outputs": [
    {
     "data": {
      "text/plain": [
       "1821"
      ]
     },
     "execution_count": 21,
     "metadata": {},
     "output_type": "execute_result"
    }
   ],
   "source": [
    "myser['Mexico']"
   ]
  },
  {
   "cell_type": "markdown",
   "id": "2d74ecac",
   "metadata": {},
   "source": [
    "## From a Dictionary"
   ]
  },
  {
   "cell_type": "code",
   "execution_count": 22,
   "id": "6023f0ec",
   "metadata": {},
   "outputs": [
    {
     "data": {
      "text/plain": [
       "{'USA': 1776, 'Canada': 1867, 'Mexico': 1821}"
      ]
     },
     "execution_count": 22,
     "metadata": {},
     "output_type": "execute_result"
    }
   ],
   "source": [
    "country = {'USA':1776,'Canada':1867,'Mexico':1821}\n",
    "country"
   ]
  },
  {
   "cell_type": "code",
   "execution_count": 23,
   "id": "d9482b17",
   "metadata": {},
   "outputs": [
    {
     "data": {
      "text/plain": [
       "USA       1776\n",
       "Canada    1867\n",
       "Mexico    1821\n",
       "dtype: int64"
      ]
     },
     "execution_count": 23,
     "metadata": {},
     "output_type": "execute_result"
    }
   ],
   "source": [
    "pd.Series(country)"
   ]
  },
  {
   "cell_type": "markdown",
   "id": "28f0d542",
   "metadata": {},
   "source": [
    "## Key Ideas"
   ]
  },
  {
   "cell_type": "code",
   "execution_count": 24,
   "id": "05c32bfd",
   "metadata": {},
   "outputs": [],
   "source": [
    "q1 = {'China':450,'India':400,'USA':250,'Japan':100}\n",
    "q2 ={'China':480,'India':450,'USA':260,'Brazil':80}"
   ]
  },
  {
   "cell_type": "code",
   "execution_count": 25,
   "id": "779171c4",
   "metadata": {},
   "outputs": [],
   "source": [
    "q1_ser = pd.Series(q1)\n",
    "q2_ser = pd.Series(q2)"
   ]
  },
  {
   "cell_type": "code",
   "execution_count": 28,
   "id": "3753438d",
   "metadata": {},
   "outputs": [
    {
     "data": {
      "text/plain": [
       "China    225.0\n",
       "India    200.0\n",
       "USA      125.0\n",
       "Japan     50.0\n",
       "dtype: float64"
      ]
     },
     "execution_count": 28,
     "metadata": {},
     "output_type": "execute_result"
    }
   ],
   "source": [
    "q1_ser/2"
   ]
  },
  {
   "cell_type": "code",
   "execution_count": 29,
   "id": "5ad38a6e",
   "metadata": {},
   "outputs": [
    {
     "data": {
      "text/plain": [
       "Brazil      NaN\n",
       "China     930.0\n",
       "India     850.0\n",
       "Japan       NaN\n",
       "USA       510.0\n",
       "dtype: float64"
      ]
     },
     "execution_count": 29,
     "metadata": {},
     "output_type": "execute_result"
    }
   ],
   "source": [
    "q1_ser+q2_ser"
   ]
  },
  {
   "cell_type": "code",
   "execution_count": 30,
   "id": "78a45bbd",
   "metadata": {},
   "outputs": [
    {
     "data": {
      "text/plain": [
       "Brazil    1080.0\n",
       "China      930.0\n",
       "India      850.0\n",
       "Japan     1100.0\n",
       "USA        510.0\n",
       "dtype: float64"
      ]
     },
     "execution_count": 30,
     "metadata": {},
     "output_type": "execute_result"
    }
   ],
   "source": [
    "q1_ser.add(q2_ser,fill_value=1000)"
   ]
  },
  {
   "cell_type": "code",
   "execution_count": null,
   "id": "c16eea11",
   "metadata": {},
   "outputs": [],
   "source": []
  }
 ],
 "metadata": {
  "kernelspec": {
   "display_name": "Python 3 (ipykernel)",
   "language": "python",
   "name": "python3"
  },
  "language_info": {
   "codemirror_mode": {
    "name": "ipython",
    "version": 3
   },
   "file_extension": ".py",
   "mimetype": "text/x-python",
   "name": "python",
   "nbconvert_exporter": "python",
   "pygments_lexer": "ipython3",
   "version": "3.11.5"
  }
 },
 "nbformat": 4,
 "nbformat_minor": 5
}
