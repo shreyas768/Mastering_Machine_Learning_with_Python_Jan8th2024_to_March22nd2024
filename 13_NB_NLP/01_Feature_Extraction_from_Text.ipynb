{
 "cells": [
  {
   "cell_type": "code",
   "execution_count": 3,
   "id": "35041274",
   "metadata": {},
   "outputs": [
    {
     "name": "stdout",
     "output_type": "stream",
     "text": [
      "This story is about surfing\n",
      "Catching waves is fun\n",
      "Surfing is a popular water sport\n",
      "\n"
     ]
    }
   ],
   "source": [
    "with open('Two.txt') as textone:\n",
    "    print(textone.read())"
   ]
  },
  {
   "cell_type": "code",
   "execution_count": 5,
   "id": "b95abce2",
   "metadata": {},
   "outputs": [],
   "source": [
    "#As a lise\n",
    "with open('One.txt') as f_one:\n",
    "    lines = f_one.readlines()"
   ]
  },
  {
   "cell_type": "code",
   "execution_count": 6,
   "id": "0464f70b",
   "metadata": {},
   "outputs": [
    {
     "data": {
      "text/plain": [
       "['This is a story about dogs\\n',\n",
       " 'our canine pets\\n',\n",
       " 'Dogs are furry animals\\n']"
      ]
     },
     "execution_count": 6,
     "metadata": {},
     "output_type": "execute_result"
    }
   ],
   "source": [
    "lines"
   ]
  },
  {
   "cell_type": "code",
   "execution_count": 7,
   "id": "1896fcd5",
   "metadata": {},
   "outputs": [],
   "source": [
    "with open('One.txt') as textone:\n",
    "    one_text = textone.read()"
   ]
  },
  {
   "cell_type": "code",
   "execution_count": 8,
   "id": "c00dd62a",
   "metadata": {},
   "outputs": [
    {
     "data": {
      "text/plain": [
       "'This is a story about dogs\\nour canine pets\\nDogs are furry animals\\n'"
      ]
     },
     "execution_count": 8,
     "metadata": {},
     "output_type": "execute_result"
    }
   ],
   "source": [
    "one_text"
   ]
  },
  {
   "cell_type": "markdown",
   "id": "197c297f",
   "metadata": {},
   "source": [
    "#### Creating a 'Bag of Words'"
   ]
  },
  {
   "cell_type": "code",
   "execution_count": 12,
   "id": "699cc2b4",
   "metadata": {},
   "outputs": [],
   "source": [
    "words_one = one_text.lower().split()"
   ]
  },
  {
   "cell_type": "code",
   "execution_count": 14,
   "id": "6059538c",
   "metadata": {},
   "outputs": [
    {
     "data": {
      "text/plain": [
       "{'a',\n",
       " 'about',\n",
       " 'animals',\n",
       " 'are',\n",
       " 'canine',\n",
       " 'dogs',\n",
       " 'furry',\n",
       " 'is',\n",
       " 'our',\n",
       " 'pets',\n",
       " 'story',\n",
       " 'this'}"
      ]
     },
     "execution_count": 14,
     "metadata": {},
     "output_type": "execute_result"
    }
   ],
   "source": [
    "unique_words_one = set(words_one)\n",
    "unique_words_one"
   ]
  },
  {
   "cell_type": "code",
   "execution_count": 16,
   "id": "61d7aa06",
   "metadata": {},
   "outputs": [],
   "source": [
    "with open('Two.txt') as texttwo:\n",
    "    words_two = texttwo.read().lower().split()"
   ]
  },
  {
   "cell_type": "code",
   "execution_count": 17,
   "id": "14a710d3",
   "metadata": {},
   "outputs": [
    {
     "data": {
      "text/plain": [
       "['this',\n",
       " 'story',\n",
       " 'is',\n",
       " 'about',\n",
       " 'surfing',\n",
       " 'catching',\n",
       " 'waves',\n",
       " 'is',\n",
       " 'fun',\n",
       " 'surfing',\n",
       " 'is',\n",
       " 'a',\n",
       " 'popular',\n",
       " 'water',\n",
       " 'sport']"
      ]
     },
     "execution_count": 17,
     "metadata": {},
     "output_type": "execute_result"
    }
   ],
   "source": [
    "words_two"
   ]
  },
  {
   "cell_type": "code",
   "execution_count": 18,
   "id": "65926679",
   "metadata": {},
   "outputs": [
    {
     "data": {
      "text/plain": [
       "{'a',\n",
       " 'about',\n",
       " 'catching',\n",
       " 'fun',\n",
       " 'is',\n",
       " 'popular',\n",
       " 'sport',\n",
       " 'story',\n",
       " 'surfing',\n",
       " 'this',\n",
       " 'water',\n",
       " 'waves'}"
      ]
     },
     "execution_count": 18,
     "metadata": {},
     "output_type": "execute_result"
    }
   ],
   "source": [
    "unique_words_two = set(words_two)\n",
    "unique_words_two"
   ]
  },
  {
   "cell_type": "code",
   "execution_count": 19,
   "id": "19b86ab9",
   "metadata": {},
   "outputs": [],
   "source": [
    "all_unique_words = set()\n",
    "all_unique_words.update(unique_words_one)\n",
    "all_unique_words.update(unique_words_two)"
   ]
  },
  {
   "cell_type": "code",
   "execution_count": 20,
   "id": "8aadfab6",
   "metadata": {},
   "outputs": [
    {
     "data": {
      "text/plain": [
       "{'a',\n",
       " 'about',\n",
       " 'animals',\n",
       " 'are',\n",
       " 'canine',\n",
       " 'catching',\n",
       " 'dogs',\n",
       " 'fun',\n",
       " 'furry',\n",
       " 'is',\n",
       " 'our',\n",
       " 'pets',\n",
       " 'popular',\n",
       " 'sport',\n",
       " 'story',\n",
       " 'surfing',\n",
       " 'this',\n",
       " 'water',\n",
       " 'waves'}"
      ]
     },
     "execution_count": 20,
     "metadata": {},
     "output_type": "execute_result"
    }
   ],
   "source": [
    "all_unique_words"
   ]
  },
  {
   "cell_type": "code",
   "execution_count": 21,
   "id": "df4e9665",
   "metadata": {},
   "outputs": [],
   "source": [
    "vocab_complete = dict()\n",
    "i = 0\n",
    "\n",
    "for w in all_unique_words:\n",
    "    vocab_complete[w] = i\n",
    "    i = i + 1"
   ]
  },
  {
   "cell_type": "code",
   "execution_count": 22,
   "id": "f01b29bb",
   "metadata": {},
   "outputs": [
    {
     "data": {
      "text/plain": [
       "{'popular': 0,\n",
       " 'story': 1,\n",
       " 'pets': 2,\n",
       " 'furry': 3,\n",
       " 'is': 4,\n",
       " 'our': 5,\n",
       " 'this': 6,\n",
       " 'a': 7,\n",
       " 'fun': 8,\n",
       " 'water': 9,\n",
       " 'canine': 10,\n",
       " 'surfing': 11,\n",
       " 'waves': 12,\n",
       " 'are': 13,\n",
       " 'catching': 14,\n",
       " 'dogs': 15,\n",
       " 'animals': 16,\n",
       " 'sport': 17,\n",
       " 'about': 18}"
      ]
     },
     "execution_count": 22,
     "metadata": {},
     "output_type": "execute_result"
    }
   ],
   "source": [
    "vocab_complete"
   ]
  },
  {
   "cell_type": "markdown",
   "id": "c2e1ee88",
   "metadata": {},
   "source": [
    "### Frequency Counts"
   ]
  },
  {
   "cell_type": "code",
   "execution_count": 23,
   "id": "998aac75",
   "metadata": {},
   "outputs": [],
   "source": [
    "one_freq = [0]*len(vocab_complete)\n",
    "two_freq = [0]*len(vocab_complete)\n",
    "all_words = ['']*len(vocab_complete)"
   ]
  },
  {
   "cell_type": "code",
   "execution_count": 24,
   "id": "65993088",
   "metadata": {},
   "outputs": [
    {
     "data": {
      "text/plain": [
       "[0, 0, 0, 0, 0, 0, 0, 0, 0, 0, 0, 0, 0, 0, 0, 0, 0, 0, 0]"
      ]
     },
     "execution_count": 24,
     "metadata": {},
     "output_type": "execute_result"
    }
   ],
   "source": [
    "one_freq"
   ]
  },
  {
   "cell_type": "code",
   "execution_count": 25,
   "id": "af2cd317",
   "metadata": {},
   "outputs": [
    {
     "data": {
      "text/plain": [
       "[0, 0, 0, 0, 0, 0, 0, 0, 0, 0, 0, 0, 0, 0, 0, 0, 0, 0, 0]"
      ]
     },
     "execution_count": 25,
     "metadata": {},
     "output_type": "execute_result"
    }
   ],
   "source": [
    "two_freq"
   ]
  },
  {
   "cell_type": "code",
   "execution_count": 26,
   "id": "60083339",
   "metadata": {},
   "outputs": [
    {
     "data": {
      "text/plain": [
       "['', '', '', '', '', '', '', '', '', '', '', '', '', '', '', '', '', '', '']"
      ]
     },
     "execution_count": 26,
     "metadata": {},
     "output_type": "execute_result"
    }
   ],
   "source": [
    "all_words"
   ]
  },
  {
   "cell_type": "code",
   "execution_count": 27,
   "id": "081b47c3",
   "metadata": {},
   "outputs": [],
   "source": [
    "for w in vocab_complete:\n",
    "    w_ind = vocab_complete[w]\n",
    "    all_words[w_ind]= w"
   ]
  },
  {
   "cell_type": "code",
   "execution_count": 28,
   "id": "8c1fcb97",
   "metadata": {},
   "outputs": [
    {
     "data": {
      "text/plain": [
       "['popular',\n",
       " 'story',\n",
       " 'pets',\n",
       " 'furry',\n",
       " 'is',\n",
       " 'our',\n",
       " 'this',\n",
       " 'a',\n",
       " 'fun',\n",
       " 'water',\n",
       " 'canine',\n",
       " 'surfing',\n",
       " 'waves',\n",
       " 'are',\n",
       " 'catching',\n",
       " 'dogs',\n",
       " 'animals',\n",
       " 'sport',\n",
       " 'about']"
      ]
     },
     "execution_count": 28,
     "metadata": {},
     "output_type": "execute_result"
    }
   ],
   "source": [
    "all_words"
   ]
  },
  {
   "cell_type": "code",
   "execution_count": 29,
   "id": "dcb52c7d",
   "metadata": {},
   "outputs": [
    {
     "data": {
      "text/plain": [
       "'This is a story about dogs\\nour canine pets\\nDogs are furry animals\\n'"
      ]
     },
     "execution_count": 29,
     "metadata": {},
     "output_type": "execute_result"
    }
   ],
   "source": [
    "one_text"
   ]
  },
  {
   "cell_type": "code",
   "execution_count": 30,
   "id": "45917374",
   "metadata": {},
   "outputs": [],
   "source": [
    "#add count for each word in each doc\n",
    "\n",
    "for w in one_text.lower().split():\n",
    "    w_ind = vocab_complete[w]\n",
    "    one_freq[w_ind] = one_freq[w_ind] + 1"
   ]
  },
  {
   "cell_type": "code",
   "execution_count": 31,
   "id": "beddb6f8",
   "metadata": {},
   "outputs": [
    {
     "data": {
      "text/plain": [
       "[0, 1, 1, 1, 1, 1, 1, 1, 0, 0, 1, 0, 0, 1, 0, 2, 1, 0, 1]"
      ]
     },
     "execution_count": 31,
     "metadata": {},
     "output_type": "execute_result"
    }
   ],
   "source": [
    "one_freq"
   ]
  },
  {
   "cell_type": "code",
   "execution_count": 33,
   "id": "bb4a322f",
   "metadata": {},
   "outputs": [],
   "source": [
    "\n",
    "for w in words_two:\n",
    "    w_ind = vocab_complete[w]\n",
    "    two_freq[w_ind] = two_freq[w_ind] + 1"
   ]
  },
  {
   "cell_type": "code",
   "execution_count": 35,
   "id": "b0732ea5",
   "metadata": {},
   "outputs": [
    {
     "data": {
      "text/plain": [
       "['this',\n",
       " 'story',\n",
       " 'is',\n",
       " 'about',\n",
       " 'surfing',\n",
       " 'catching',\n",
       " 'waves',\n",
       " 'is',\n",
       " 'fun',\n",
       " 'surfing',\n",
       " 'is',\n",
       " 'a',\n",
       " 'popular',\n",
       " 'water',\n",
       " 'sport']"
      ]
     },
     "execution_count": 35,
     "metadata": {},
     "output_type": "execute_result"
    }
   ],
   "source": [
    "words_two"
   ]
  },
  {
   "cell_type": "code",
   "execution_count": 34,
   "id": "5fe3db5d",
   "metadata": {},
   "outputs": [
    {
     "data": {
      "text/plain": [
       "[1, 1, 0, 0, 3, 0, 1, 1, 1, 1, 0, 2, 1, 0, 1, 0, 0, 1, 1]"
      ]
     },
     "execution_count": 34,
     "metadata": {},
     "output_type": "execute_result"
    }
   ],
   "source": [
    "two_freq"
   ]
  },
  {
   "cell_type": "code",
   "execution_count": 36,
   "id": "c29c4670",
   "metadata": {},
   "outputs": [
    {
     "data": {
      "text/html": [
       "<div>\n",
       "<style scoped>\n",
       "    .dataframe tbody tr th:only-of-type {\n",
       "        vertical-align: middle;\n",
       "    }\n",
       "\n",
       "    .dataframe tbody tr th {\n",
       "        vertical-align: top;\n",
       "    }\n",
       "\n",
       "    .dataframe thead th {\n",
       "        text-align: right;\n",
       "    }\n",
       "</style>\n",
       "<table border=\"1\" class=\"dataframe\">\n",
       "  <thead>\n",
       "    <tr style=\"text-align: right;\">\n",
       "      <th></th>\n",
       "      <th>popular</th>\n",
       "      <th>story</th>\n",
       "      <th>pets</th>\n",
       "      <th>furry</th>\n",
       "      <th>is</th>\n",
       "      <th>our</th>\n",
       "      <th>this</th>\n",
       "      <th>a</th>\n",
       "      <th>fun</th>\n",
       "      <th>water</th>\n",
       "      <th>canine</th>\n",
       "      <th>surfing</th>\n",
       "      <th>waves</th>\n",
       "      <th>are</th>\n",
       "      <th>catching</th>\n",
       "      <th>dogs</th>\n",
       "      <th>animals</th>\n",
       "      <th>sport</th>\n",
       "      <th>about</th>\n",
       "    </tr>\n",
       "  </thead>\n",
       "  <tbody>\n",
       "    <tr>\n",
       "      <th>0</th>\n",
       "      <td>0</td>\n",
       "      <td>1</td>\n",
       "      <td>1</td>\n",
       "      <td>1</td>\n",
       "      <td>1</td>\n",
       "      <td>1</td>\n",
       "      <td>1</td>\n",
       "      <td>1</td>\n",
       "      <td>0</td>\n",
       "      <td>0</td>\n",
       "      <td>1</td>\n",
       "      <td>0</td>\n",
       "      <td>0</td>\n",
       "      <td>1</td>\n",
       "      <td>0</td>\n",
       "      <td>2</td>\n",
       "      <td>1</td>\n",
       "      <td>0</td>\n",
       "      <td>1</td>\n",
       "    </tr>\n",
       "    <tr>\n",
       "      <th>1</th>\n",
       "      <td>1</td>\n",
       "      <td>1</td>\n",
       "      <td>0</td>\n",
       "      <td>0</td>\n",
       "      <td>3</td>\n",
       "      <td>0</td>\n",
       "      <td>1</td>\n",
       "      <td>1</td>\n",
       "      <td>1</td>\n",
       "      <td>1</td>\n",
       "      <td>0</td>\n",
       "      <td>2</td>\n",
       "      <td>1</td>\n",
       "      <td>0</td>\n",
       "      <td>1</td>\n",
       "      <td>0</td>\n",
       "      <td>0</td>\n",
       "      <td>1</td>\n",
       "      <td>1</td>\n",
       "    </tr>\n",
       "  </tbody>\n",
       "</table>\n",
       "</div>"
      ],
      "text/plain": [
       "   popular  story  pets  furry  is  ...  catching  dogs  animals  sport  about\n",
       "0        0      1     1      1   1  ...         0     2        1      0      1\n",
       "1        1      1     0      0   3  ...         1     0        0      1      1\n",
       "\n",
       "[2 rows x 19 columns]"
      ]
     },
     "execution_count": 36,
     "metadata": {},
     "output_type": "execute_result"
    }
   ],
   "source": [
    "import pandas as pd\n",
    "pd.DataFrame(data=[one_freq,two_freq],columns=all_words)"
   ]
  },
  {
   "cell_type": "markdown",
   "id": "87591f65",
   "metadata": {},
   "source": [
    "## Feature Extraction with sklearn"
   ]
  },
  {
   "cell_type": "code",
   "execution_count": 37,
   "id": "2b37ec90",
   "metadata": {},
   "outputs": [],
   "source": [
    "txt1 = ['This is a line',\n",
    "       'This is another line',\n",
    "       'New  different line']"
   ]
  },
  {
   "cell_type": "code",
   "execution_count": 38,
   "id": "e9fd288b",
   "metadata": {},
   "outputs": [],
   "source": [
    "from sklearn.feature_extraction.text import TfidfTransformer, TfidfVectorizer, CountVectorizer"
   ]
  },
  {
   "cell_type": "code",
   "execution_count": 41,
   "id": "98ffefb0",
   "metadata": {},
   "outputs": [],
   "source": [
    "cv = CountVectorizer()\n",
    "sparse_mat = cv.fit_transform(txt1)"
   ]
  },
  {
   "cell_type": "code",
   "execution_count": 42,
   "id": "cc8eb14c",
   "metadata": {},
   "outputs": [
    {
     "data": {
      "text/plain": [
       "matrix([[0, 0, 1, 1, 0, 1],\n",
       "        [1, 0, 1, 1, 0, 1],\n",
       "        [0, 1, 0, 1, 1, 0]])"
      ]
     },
     "execution_count": 42,
     "metadata": {},
     "output_type": "execute_result"
    }
   ],
   "source": [
    "sparse_mat.todense()"
   ]
  },
  {
   "cell_type": "code",
   "execution_count": 43,
   "id": "f4b09936",
   "metadata": {},
   "outputs": [
    {
     "data": {
      "text/plain": [
       "{'this': 5, 'is': 2, 'line': 3, 'another': 0, 'new': 4, 'different': 1}"
      ]
     },
     "execution_count": 43,
     "metadata": {},
     "output_type": "execute_result"
    }
   ],
   "source": [
    "cv.vocabulary_"
   ]
  },
  {
   "cell_type": "code",
   "execution_count": 44,
   "id": "2ce6cdcc",
   "metadata": {},
   "outputs": [
    {
     "data": {
      "text/plain": [
       "matrix([[0, 1, 0],\n",
       "        [0, 1, 0],\n",
       "        [1, 1, 1]])"
      ]
     },
     "execution_count": 44,
     "metadata": {},
     "output_type": "execute_result"
    }
   ],
   "source": [
    "cv = CountVectorizer(stop_words='english')\n",
    "cv.fit_transform(txt1).todense()"
   ]
  },
  {
   "cell_type": "code",
   "execution_count": 45,
   "id": "4b60767e",
   "metadata": {},
   "outputs": [
    {
     "data": {
      "text/plain": [
       "{'line': 1, 'new': 2, 'different': 0}"
      ]
     },
     "execution_count": 45,
     "metadata": {},
     "output_type": "execute_result"
    }
   ],
   "source": [
    "cv.vocabulary_"
   ]
  },
  {
   "cell_type": "markdown",
   "id": "e46f92c7",
   "metadata": {},
   "source": [
    "### Tfidf Transformer"
   ]
  },
  {
   "cell_type": "code",
   "execution_count": 46,
   "id": "89aefe53",
   "metadata": {},
   "outputs": [],
   "source": [
    "tfidf_transformer = TfidfTransformer()"
   ]
  },
  {
   "cell_type": "code",
   "execution_count": 47,
   "id": "24b2ea3a",
   "metadata": {},
   "outputs": [
    {
     "data": {
      "text/plain": [
       "<3x6 sparse matrix of type '<class 'numpy.int64'>'\n",
       "\twith 10 stored elements in Compressed Sparse Row format>"
      ]
     },
     "execution_count": 47,
     "metadata": {},
     "output_type": "execute_result"
    }
   ],
   "source": [
    "cv = CountVectorizer()\n",
    "counts = cv.fit_transform(txt1)\n",
    "counts"
   ]
  },
  {
   "cell_type": "code",
   "execution_count": 48,
   "id": "87cd182a",
   "metadata": {},
   "outputs": [
    {
     "data": {
      "text/plain": [
       "matrix([[0.        , 0.        , 0.61980538, 0.48133417, 0.        ,\n",
       "         0.61980538],\n",
       "        [0.63174505, 0.        , 0.4804584 , 0.37311881, 0.        ,\n",
       "         0.4804584 ],\n",
       "        [0.        , 0.65249088, 0.        , 0.38537163, 0.65249088,\n",
       "         0.        ]])"
      ]
     },
     "execution_count": 48,
     "metadata": {},
     "output_type": "execute_result"
    }
   ],
   "source": [
    "tfidf = tfidf_transformer.fit_transform(counts)\n",
    "tfidf.todense()"
   ]
  },
  {
   "cell_type": "markdown",
   "id": "928116b3",
   "metadata": {},
   "source": [
    "##### tfidf Vectorizer (to do the two steps in one go)"
   ]
  },
  {
   "cell_type": "code",
   "execution_count": 49,
   "id": "5f2c9621",
   "metadata": {},
   "outputs": [
    {
     "data": {
      "text/plain": [
       "matrix([[0.        , 0.        , 0.61980538, 0.48133417, 0.        ,\n",
       "         0.61980538],\n",
       "        [0.63174505, 0.        , 0.4804584 , 0.37311881, 0.        ,\n",
       "         0.4804584 ],\n",
       "        [0.        , 0.65249088, 0.        , 0.38537163, 0.65249088,\n",
       "         0.        ]])"
      ]
     },
     "execution_count": 49,
     "metadata": {},
     "output_type": "execute_result"
    }
   ],
   "source": [
    "tfidf = TfidfVectorizer()\n",
    "new_tfidf = tfidf.fit_transform(txt1)\n",
    "new_tfidf.todense()"
   ]
  },
  {
   "cell_type": "code",
   "execution_count": null,
   "id": "2e295ae2",
   "metadata": {},
   "outputs": [],
   "source": []
  }
 ],
 "metadata": {
  "kernelspec": {
   "display_name": "Python 3 (ipykernel)",
   "language": "python",
   "name": "python3"
  },
  "language_info": {
   "codemirror_mode": {
    "name": "ipython",
    "version": 3
   },
   "file_extension": ".py",
   "mimetype": "text/x-python",
   "name": "python",
   "nbconvert_exporter": "python",
   "pygments_lexer": "ipython3",
   "version": "3.11.5"
  }
 },
 "nbformat": 4,
 "nbformat_minor": 5
}
