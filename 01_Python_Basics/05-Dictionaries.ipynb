{
 "cells": [
  {
   "cell_type": "code",
   "execution_count": 5,
   "id": "039514c5",
   "metadata": {},
   "outputs": [],
   "source": [
    "dct1 = {'key1':'value1','key2':123}"
   ]
  },
  {
   "cell_type": "code",
   "execution_count": 6,
   "id": "b8439749",
   "metadata": {},
   "outputs": [
    {
     "data": {
      "text/plain": [
       "dict"
      ]
     },
     "execution_count": 6,
     "metadata": {},
     "output_type": "execute_result"
    }
   ],
   "source": [
    "type(dct1)"
   ]
  },
  {
   "cell_type": "code",
   "execution_count": 7,
   "id": "42adc585",
   "metadata": {},
   "outputs": [
    {
     "data": {
      "text/plain": [
       "123"
      ]
     },
     "execution_count": 7,
     "metadata": {},
     "output_type": "execute_result"
    }
   ],
   "source": [
    "dct1['key2']"
   ]
  },
  {
   "cell_type": "code",
   "execution_count": 8,
   "id": "cb174285",
   "metadata": {},
   "outputs": [],
   "source": [
    "dct2 = {'key1':'value1','key2':123, 'key3':['hi','hello',34.987]}"
   ]
  },
  {
   "cell_type": "code",
   "execution_count": 15,
   "id": "8128075b",
   "metadata": {},
   "outputs": [
    {
     "name": "stdout",
     "output_type": "stream",
     "text": [
      "Welcome to hell\n"
     ]
    }
   ],
   "source": [
    "\n",
    "print(f\"Welcome to {dct2['key3'][1][:-1]}\" )"
   ]
  },
  {
   "cell_type": "code",
   "execution_count": 16,
   "id": "be847978",
   "metadata": {},
   "outputs": [
    {
     "data": {
      "text/plain": [
       "100"
      ]
     },
     "execution_count": 16,
     "metadata": {},
     "output_type": "execute_result"
    }
   ],
   "source": [
    "dct1['key2']-23"
   ]
  },
  {
   "cell_type": "markdown",
   "id": "ecbe0265",
   "metadata": {},
   "source": [
    "## Create keys by assignment"
   ]
  },
  {
   "cell_type": "code",
   "execution_count": 17,
   "id": "abde0ce7",
   "metadata": {},
   "outputs": [],
   "source": [
    "d = {}"
   ]
  },
  {
   "cell_type": "code",
   "execution_count": 18,
   "id": "036bc5b2",
   "metadata": {},
   "outputs": [],
   "source": [
    "d['animal'] = 'Dog'"
   ]
  },
  {
   "cell_type": "code",
   "execution_count": 19,
   "id": "4965c95f",
   "metadata": {},
   "outputs": [
    {
     "data": {
      "text/plain": [
       "{'animal': 'Dog'}"
      ]
     },
     "execution_count": 19,
     "metadata": {},
     "output_type": "execute_result"
    }
   ],
   "source": [
    "d"
   ]
  },
  {
   "cell_type": "code",
   "execution_count": 20,
   "id": "1580f301",
   "metadata": {},
   "outputs": [],
   "source": [
    "d['result'] = 98"
   ]
  },
  {
   "cell_type": "code",
   "execution_count": 21,
   "id": "726a56dd",
   "metadata": {},
   "outputs": [
    {
     "data": {
      "text/plain": [
       "{'animal': 'Dog', 'result': 98}"
      ]
     },
     "execution_count": 21,
     "metadata": {},
     "output_type": "execute_result"
    }
   ],
   "source": [
    "d"
   ]
  },
  {
   "cell_type": "markdown",
   "id": "45907821",
   "metadata": {},
   "source": [
    "## Nested Dictionaries"
   ]
  },
  {
   "cell_type": "code",
   "execution_count": 29,
   "id": "e8e77c4c",
   "metadata": {},
   "outputs": [
    {
     "data": {
      "text/plain": [
       "{'key1': {'nestedkey1': {'subnestedkey1': ['Hello Shreyas',\n",
       "    'Hello RBPL',\n",
       "    'Hello IITr']}}}"
      ]
     },
     "execution_count": 29,
     "metadata": {},
     "output_type": "execute_result"
    }
   ],
   "source": [
    "d1 = {'key1': {'nestedkey1':{'subnestedkey1':['Hello Shreyas','Hello RBPL','Hello IITr']}}}\n",
    "d1"
   ]
  },
  {
   "cell_type": "code",
   "execution_count": 32,
   "id": "0c5ff08e",
   "metadata": {},
   "outputs": [
    {
     "data": {
      "text/plain": [
       "'IITr'"
      ]
     },
     "execution_count": 32,
     "metadata": {},
     "output_type": "execute_result"
    }
   ],
   "source": [
    "d1['key1']['nestedkey1']['subnestedkey1'][-1][-4:]"
   ]
  },
  {
   "cell_type": "markdown",
   "id": "99e96d4b",
   "metadata": {},
   "source": [
    "## Dictionaries Methods"
   ]
  },
  {
   "cell_type": "code",
   "execution_count": 33,
   "id": "d5280d9d",
   "metadata": {},
   "outputs": [
    {
     "data": {
      "text/plain": [
       "{'key1': 'value1', 'key2': 123}"
      ]
     },
     "execution_count": 33,
     "metadata": {},
     "output_type": "execute_result"
    }
   ],
   "source": [
    "dct1"
   ]
  },
  {
   "cell_type": "code",
   "execution_count": 35,
   "id": "e4cbcd3e",
   "metadata": {},
   "outputs": [
    {
     "data": {
      "text/plain": [
       "dict_keys(['key1', 'key2'])"
      ]
     },
     "execution_count": 35,
     "metadata": {},
     "output_type": "execute_result"
    }
   ],
   "source": [
    "#returns a list of all keys\n",
    "dct1.keys()"
   ]
  },
  {
   "cell_type": "code",
   "execution_count": 36,
   "id": "ee4fcea0",
   "metadata": {},
   "outputs": [
    {
     "data": {
      "text/plain": [
       "dict_values(['value1', 123])"
      ]
     },
     "execution_count": 36,
     "metadata": {},
     "output_type": "execute_result"
    }
   ],
   "source": [
    "dct1.values()"
   ]
  },
  {
   "cell_type": "code",
   "execution_count": 37,
   "id": "8f0aca2b",
   "metadata": {},
   "outputs": [
    {
     "data": {
      "text/plain": [
       "dict_items([('key1', 'value1'), ('key2', 123)])"
      ]
     },
     "execution_count": 37,
     "metadata": {},
     "output_type": "execute_result"
    }
   ],
   "source": [
    "dct1.items()"
   ]
  },
  {
   "cell_type": "code",
   "execution_count": null,
   "id": "f5da1896",
   "metadata": {},
   "outputs": [],
   "source": []
  }
 ],
 "metadata": {
  "kernelspec": {
   "display_name": "Python 3 (ipykernel)",
   "language": "python",
   "name": "python3"
  },
  "language_info": {
   "codemirror_mode": {
    "name": "ipython",
    "version": 3
   },
   "file_extension": ".py",
   "mimetype": "text/x-python",
   "name": "python",
   "nbconvert_exporter": "python",
   "pygments_lexer": "ipython3",
   "version": "3.11.5"
  }
 },
 "nbformat": 4,
 "nbformat_minor": 5
}
