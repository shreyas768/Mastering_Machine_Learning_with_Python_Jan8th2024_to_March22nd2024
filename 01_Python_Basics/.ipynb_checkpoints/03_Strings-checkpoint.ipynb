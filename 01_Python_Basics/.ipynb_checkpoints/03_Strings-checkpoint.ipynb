{
 "cells": [
  {
   "cell_type": "markdown",
   "id": "8ca9384a",
   "metadata": {},
   "source": [
    "## Create a string"
   ]
  },
  {
   "cell_type": "code",
   "execution_count": 72,
   "id": "5f0e88ef",
   "metadata": {},
   "outputs": [
    {
     "data": {
      "text/plain": [
       "'hello'"
      ]
     },
     "execution_count": 72,
     "metadata": {},
     "output_type": "execute_result"
    }
   ],
   "source": [
    "#single word\n",
    "'hello'"
   ]
  },
  {
   "cell_type": "code",
   "execution_count": 73,
   "id": "aac170e1",
   "metadata": {},
   "outputs": [
    {
     "data": {
      "text/plain": [
       "'this is also a string'"
      ]
     },
     "execution_count": 73,
     "metadata": {},
     "output_type": "execute_result"
    }
   ],
   "source": [
    "#entire phrase\n",
    "'this is also a string'"
   ]
  },
  {
   "cell_type": "code",
   "execution_count": 74,
   "id": "7fc4be15",
   "metadata": {},
   "outputs": [
    {
     "data": {
      "text/plain": [
       "' We can also use double quotes'"
      ]
     },
     "execution_count": 74,
     "metadata": {},
     "output_type": "execute_result"
    }
   ],
   "source": [
    "\" We can also use double quotes\""
   ]
  },
  {
   "cell_type": "code",
   "execution_count": 75,
   "id": "27be7ff4",
   "metadata": {},
   "outputs": [
    {
     "ename": "SyntaxError",
     "evalue": "unterminated string literal (detected at line 2) (1056685846.py, line 2)",
     "output_type": "error",
     "traceback": [
      "\u001b[1;36m  Cell \u001b[1;32mIn[75], line 2\u001b[1;36m\u001b[0m\n\u001b[1;33m    'I'm using single quotes, but this will give an error'\u001b[0m\n\u001b[1;37m                                                         ^\u001b[0m\n\u001b[1;31mSyntaxError\u001b[0m\u001b[1;31m:\u001b[0m unterminated string literal (detected at line 2)\n"
     ]
    }
   ],
   "source": [
    "#Be careful\n",
    "'I'm using single quotes, but this will give an error'"
   ]
  },
  {
   "cell_type": "code",
   "execution_count": null,
   "id": "cf99e63f",
   "metadata": {},
   "outputs": [],
   "source": [
    "\"I'm now using double quotes, this will work fine\""
   ]
  },
  {
   "cell_type": "markdown",
   "id": "cd4397ef",
   "metadata": {},
   "source": [
    "## Printing a String"
   ]
  },
  {
   "cell_type": "code",
   "execution_count": null,
   "id": "3175d1c3",
   "metadata": {},
   "outputs": [],
   "source": [
    "'Hello Shreyas'"
   ]
  },
  {
   "cell_type": "code",
   "execution_count": null,
   "id": "f29ca4b3",
   "metadata": {},
   "outputs": [],
   "source": [
    "'Hello Shreyas'\n",
    "'Hello RBPL'\n",
    "\n",
    "#We cannot output multiple strings this way"
   ]
  },
  {
   "cell_type": "code",
   "execution_count": null,
   "id": "6443c30a",
   "metadata": {},
   "outputs": [],
   "source": [
    "# We have to use print statement instead\n",
    "\n",
    "print('Hello Shreyas')\n",
    "print('Hello RBPL')"
   ]
  },
  {
   "cell_type": "code",
   "execution_count": null,
   "id": "43fd2451",
   "metadata": {},
   "outputs": [],
   "source": [
    "print('Use \\n for new line')"
   ]
  },
  {
   "cell_type": "code",
   "execution_count": 76,
   "id": "b3b917fb",
   "metadata": {},
   "outputs": [
    {
     "name": "stdout",
     "output_type": "stream",
     "text": [
      "Use \t for tab function\n"
     ]
    }
   ],
   "source": [
    "print('Use \\t for tab function')"
   ]
  },
  {
   "cell_type": "markdown",
   "id": "92ed7f90",
   "metadata": {},
   "source": [
    "## String Basics\n",
    "\n",
    "##### Grabbing"
   ]
  },
  {
   "cell_type": "code",
   "execution_count": 77,
   "id": "28377f3c",
   "metadata": {},
   "outputs": [
    {
     "data": {
      "text/plain": [
       "13"
      ]
     },
     "execution_count": 77,
     "metadata": {},
     "output_type": "execute_result"
    }
   ],
   "source": [
    "var1 = 'Hello Shreyas'\n",
    "len(var1)   #length of string"
   ]
  },
  {
   "cell_type": "code",
   "execution_count": 78,
   "id": "0a5e3eac",
   "metadata": {},
   "outputs": [
    {
     "name": "stdout",
     "output_type": "stream",
     "text": [
      "Hello Shreyas\n"
     ]
    }
   ],
   "source": [
    "print(var1)"
   ]
  },
  {
   "cell_type": "code",
   "execution_count": 79,
   "id": "55350b38",
   "metadata": {},
   "outputs": [
    {
     "data": {
      "text/plain": [
       "'H'"
      ]
     },
     "execution_count": 79,
     "metadata": {},
     "output_type": "execute_result"
    }
   ],
   "source": [
    "#show first element\n",
    "var1[0]"
   ]
  },
  {
   "cell_type": "code",
   "execution_count": 80,
   "id": "2ab1a62a",
   "metadata": {},
   "outputs": [
    {
     "data": {
      "text/plain": [
       "'H'"
      ]
     },
     "execution_count": 80,
     "metadata": {},
     "output_type": "execute_result"
    }
   ],
   "source": [
    "var1[-13]"
   ]
  },
  {
   "cell_type": "code",
   "execution_count": 81,
   "id": "188fd94c",
   "metadata": {},
   "outputs": [
    {
     "data": {
      "text/plain": [
       "'e'"
      ]
     },
     "execution_count": 81,
     "metadata": {},
     "output_type": "execute_result"
    }
   ],
   "source": [
    "var1[1]"
   ]
  },
  {
   "cell_type": "code",
   "execution_count": 82,
   "id": "2e952053",
   "metadata": {},
   "outputs": [
    {
     "name": "stdout",
     "output_type": "stream",
     "text": [
      "y\n"
     ]
    }
   ],
   "source": [
    "print(var1[-3])"
   ]
  },
  {
   "cell_type": "markdown",
   "id": "0808b6b2",
   "metadata": {},
   "source": [
    "#### Slicing"
   ]
  },
  {
   "cell_type": "code",
   "execution_count": 83,
   "id": "88df14ed",
   "metadata": {},
   "outputs": [
    {
     "data": {
      "text/plain": [
       "'Hello Shreyas'"
      ]
     },
     "execution_count": 83,
     "metadata": {},
     "output_type": "execute_result"
    }
   ],
   "source": [
    "var1"
   ]
  },
  {
   "cell_type": "code",
   "execution_count": 84,
   "id": "4e4a68ea",
   "metadata": {},
   "outputs": [
    {
     "data": {
      "text/plain": [
       "'llo Shreyas'"
      ]
     },
     "execution_count": 84,
     "metadata": {},
     "output_type": "execute_result"
    }
   ],
   "source": [
    "var1[2:]"
   ]
  },
  {
   "cell_type": "code",
   "execution_count": 85,
   "id": "a2f6f979",
   "metadata": {},
   "outputs": [
    {
     "data": {
      "text/plain": [
       "' Shreyas'"
      ]
     },
     "execution_count": 85,
     "metadata": {},
     "output_type": "execute_result"
    }
   ],
   "source": [
    "var1[5:]"
   ]
  },
  {
   "cell_type": "code",
   "execution_count": 86,
   "id": "ab4e2c62",
   "metadata": {},
   "outputs": [
    {
     "data": {
      "text/plain": [
       "'Hell'"
      ]
     },
     "execution_count": 86,
     "metadata": {},
     "output_type": "execute_result"
    }
   ],
   "source": [
    "var1[:4]\n",
    "\n",
    "#grab everything UP TO 4th index but not including it"
   ]
  },
  {
   "cell_type": "code",
   "execution_count": 87,
   "id": "543fc0f3",
   "metadata": {},
   "outputs": [
    {
     "data": {
      "text/plain": [
       "'Hell'"
      ]
     },
     "execution_count": 87,
     "metadata": {},
     "output_type": "execute_result"
    }
   ],
   "source": [
    "var1[:-9]"
   ]
  },
  {
   "cell_type": "code",
   "execution_count": 88,
   "id": "d9495ea8",
   "metadata": {},
   "outputs": [
    {
     "data": {
      "text/plain": [
       "'ell'"
      ]
     },
     "execution_count": 88,
     "metadata": {},
     "output_type": "execute_result"
    }
   ],
   "source": [
    "var1[1:4]"
   ]
  },
  {
   "cell_type": "code",
   "execution_count": 89,
   "id": "a640d113",
   "metadata": {},
   "outputs": [
    {
     "data": {
      "text/plain": [
       "'Shrey'"
      ]
     },
     "execution_count": 89,
     "metadata": {},
     "output_type": "execute_result"
    }
   ],
   "source": [
    "#Shrey\n",
    "var1[6:11]"
   ]
  },
  {
   "cell_type": "code",
   "execution_count": 90,
   "id": "b18fafb8",
   "metadata": {},
   "outputs": [
    {
     "data": {
      "text/plain": [
       "'Shrey'"
      ]
     },
     "execution_count": 90,
     "metadata": {},
     "output_type": "execute_result"
    }
   ],
   "source": [
    "var1[-7:-2]"
   ]
  },
  {
   "cell_type": "code",
   "execution_count": 91,
   "id": "fa117c65",
   "metadata": {},
   "outputs": [
    {
     "data": {
      "text/plain": [
       "'Shrey'"
      ]
     },
     "execution_count": 91,
     "metadata": {},
     "output_type": "execute_result"
    }
   ],
   "source": [
    "var1[6:-2]"
   ]
  },
  {
   "cell_type": "code",
   "execution_count": 92,
   "id": "d07cd754",
   "metadata": {},
   "outputs": [
    {
     "data": {
      "text/plain": [
       "'Shrey'"
      ]
     },
     "execution_count": 92,
     "metadata": {},
     "output_type": "execute_result"
    }
   ],
   "source": [
    "var1[-7:11]"
   ]
  },
  {
   "cell_type": "code",
   "execution_count": 93,
   "id": "8cf83dcb",
   "metadata": {},
   "outputs": [
    {
     "data": {
      "text/plain": [
       "'Hello Shreyas'"
      ]
     },
     "execution_count": 93,
     "metadata": {},
     "output_type": "execute_result"
    }
   ],
   "source": [
    "#Step size\n",
    "var1[::1]"
   ]
  },
  {
   "cell_type": "code",
   "execution_count": 94,
   "id": "936a74b1",
   "metadata": {},
   "outputs": [
    {
     "data": {
      "text/plain": [
       "'HloSrys'"
      ]
     },
     "execution_count": 94,
     "metadata": {},
     "output_type": "execute_result"
    }
   ],
   "source": [
    "var1[::2]"
   ]
  },
  {
   "cell_type": "code",
   "execution_count": 95,
   "id": "cdd705ab",
   "metadata": {},
   "outputs": [
    {
     "data": {
      "text/plain": [
       "'HlSes'"
      ]
     },
     "execution_count": 95,
     "metadata": {},
     "output_type": "execute_result"
    }
   ],
   "source": [
    "var1[::3]"
   ]
  },
  {
   "cell_type": "code",
   "execution_count": 96,
   "id": "a7ae691f",
   "metadata": {},
   "outputs": [
    {
     "data": {
      "text/plain": [
       "'sayerhS olleH'"
      ]
     },
     "execution_count": 96,
     "metadata": {},
     "output_type": "execute_result"
    }
   ],
   "source": [
    "var1[::-1]"
   ]
  },
  {
   "cell_type": "code",
   "execution_count": 97,
   "id": "eaebabfa",
   "metadata": {},
   "outputs": [
    {
     "data": {
      "text/plain": [
       "'syrSolH'"
      ]
     },
     "execution_count": 97,
     "metadata": {},
     "output_type": "execute_result"
    }
   ],
   "source": [
    "var1[::-2]"
   ]
  },
  {
   "cell_type": "code",
   "execution_count": 98,
   "id": "1a9b26d9",
   "metadata": {},
   "outputs": [
    {
     "data": {
      "text/plain": [
       "'l h'"
      ]
     },
     "execution_count": 98,
     "metadata": {},
     "output_type": "execute_result"
    }
   ],
   "source": [
    "var1[3:9:2]"
   ]
  },
  {
   "cell_type": "markdown",
   "id": "188a7962",
   "metadata": {},
   "source": [
    "## Properties of String"
   ]
  },
  {
   "cell_type": "code",
   "execution_count": 99,
   "id": "898ac833",
   "metadata": {},
   "outputs": [
    {
     "data": {
      "text/plain": [
       "'Hello Shreyas'"
      ]
     },
     "execution_count": 99,
     "metadata": {},
     "output_type": "execute_result"
    }
   ],
   "source": [
    "#Immutability: once string is created, elements within it cannot be changed or replaced\n",
    "var1"
   ]
  },
  {
   "cell_type": "code",
   "execution_count": 100,
   "id": "ed2685ce",
   "metadata": {
    "scrolled": true
   },
   "outputs": [
    {
     "ename": "TypeError",
     "evalue": "'str' object does not support item assignment",
     "output_type": "error",
     "traceback": [
      "\u001b[1;31m---------------------------------------------------------------------------\u001b[0m",
      "\u001b[1;31mTypeError\u001b[0m                                 Traceback (most recent call last)",
      "Cell \u001b[1;32mIn[100], line 1\u001b[0m\n\u001b[1;32m----> 1\u001b[0m var1[\u001b[38;5;241m0\u001b[39m] \u001b[38;5;241m=\u001b[39m \u001b[38;5;124m'\u001b[39m\u001b[38;5;124mO\u001b[39m\u001b[38;5;124m'\u001b[39m\n",
      "\u001b[1;31mTypeError\u001b[0m: 'str' object does not support item assignment"
     ]
    }
   ],
   "source": [
    "var1[0] = 'O'"
   ]
  },
  {
   "cell_type": "code",
   "execution_count": 118,
   "id": "478e3f33",
   "metadata": {},
   "outputs": [
    {
     "data": {
      "text/plain": [
       "'Hello Shreyas. I am great learner'"
      ]
     },
     "execution_count": 118,
     "metadata": {},
     "output_type": "execute_result"
    }
   ],
   "source": [
    "#Concatenation\n",
    "var2 = '. I am great learner'\n",
    "var3 = var1 + var2\n",
    "var3"
   ]
  },
  {
   "cell_type": "code",
   "execution_count": 102,
   "id": "b252b29d",
   "metadata": {},
   "outputs": [
    {
     "data": {
      "text/plain": [
       "5"
      ]
     },
     "execution_count": 102,
     "metadata": {},
     "output_type": "execute_result"
    }
   ],
   "source": [
    "2+3"
   ]
  },
  {
   "cell_type": "code",
   "execution_count": 103,
   "id": "82af2a6c",
   "metadata": {},
   "outputs": [
    {
     "name": "stdout",
     "output_type": "stream",
     "text": [
      "5\n"
     ]
    }
   ],
   "source": [
    "print(2+3)"
   ]
  },
  {
   "cell_type": "code",
   "execution_count": 104,
   "id": "4f6c9f42",
   "metadata": {},
   "outputs": [
    {
     "data": {
      "text/plain": [
       "'23'"
      ]
     },
     "execution_count": 104,
     "metadata": {},
     "output_type": "execute_result"
    }
   ],
   "source": [
    "z = '2'+'3'\n",
    "z"
   ]
  },
  {
   "cell_type": "code",
   "execution_count": 105,
   "id": "cad42e5f",
   "metadata": {},
   "outputs": [
    {
     "data": {
      "text/plain": [
       "str"
      ]
     },
     "execution_count": 105,
     "metadata": {},
     "output_type": "execute_result"
    }
   ],
   "source": [
    "type(z)"
   ]
  },
  {
   "cell_type": "code",
   "execution_count": 106,
   "id": "675bd0f0",
   "metadata": {},
   "outputs": [
    {
     "name": "stdout",
     "output_type": "stream",
     "text": [
      "23\n"
     ]
    }
   ],
   "source": [
    "print(z)"
   ]
  },
  {
   "cell_type": "markdown",
   "id": "1386e1ef",
   "metadata": {},
   "source": [
    "# Basic Built-in String Methods\n",
    "\n",
    "\n",
    "object.method(parameters)"
   ]
  },
  {
   "cell_type": "code",
   "execution_count": 107,
   "id": "2a8d01d7",
   "metadata": {},
   "outputs": [
    {
     "data": {
      "text/plain": [
       "'Hello Shreyas'"
      ]
     },
     "execution_count": 107,
     "metadata": {},
     "output_type": "execute_result"
    }
   ],
   "source": [
    "var1"
   ]
  },
  {
   "cell_type": "code",
   "execution_count": 108,
   "id": "7d19aa1e",
   "metadata": {},
   "outputs": [
    {
     "data": {
      "text/plain": [
       "'HELLO SHREYAS'"
      ]
     },
     "execution_count": 108,
     "metadata": {},
     "output_type": "execute_result"
    }
   ],
   "source": [
    "var1.upper()"
   ]
  },
  {
   "cell_type": "code",
   "execution_count": 109,
   "id": "3937c01a",
   "metadata": {},
   "outputs": [
    {
     "data": {
      "text/plain": [
       "<function str.upper()>"
      ]
     },
     "execution_count": 109,
     "metadata": {},
     "output_type": "execute_result"
    }
   ],
   "source": [
    "var1.upper"
   ]
  },
  {
   "cell_type": "code",
   "execution_count": 110,
   "id": "f3ed2301",
   "metadata": {},
   "outputs": [
    {
     "data": {
      "text/plain": [
       "'hello shreyas'"
      ]
     },
     "execution_count": 110,
     "metadata": {},
     "output_type": "execute_result"
    }
   ],
   "source": [
    "var1.lower()"
   ]
  },
  {
   "cell_type": "code",
   "execution_count": 130,
   "id": "4a680c94",
   "metadata": {},
   "outputs": [
    {
     "data": {
      "text/plain": [
       "['Hello', 'Shreyas.', 'I', 'am', 'great', 'learner']"
      ]
     },
     "execution_count": 130,
     "metadata": {},
     "output_type": "execute_result"
    }
   ],
   "source": [
    "var3.split()"
   ]
  },
  {
   "cell_type": "code",
   "execution_count": 113,
   "id": "30770fc7",
   "metadata": {},
   "outputs": [
    {
     "data": {
      "text/plain": [
       "['Hell', 'hreyas']"
      ]
     },
     "execution_count": 113,
     "metadata": {},
     "output_type": "execute_result"
    }
   ],
   "source": [
    "var1.split('o S')"
   ]
  },
  {
   "cell_type": "code",
   "execution_count": 124,
   "id": "e2ac436a",
   "metadata": {},
   "outputs": [
    {
     "data": {
      "text/plain": [
       "['Hello S', 'reyas. I am great learner']"
      ]
     },
     "execution_count": 124,
     "metadata": {},
     "output_type": "execute_result"
    }
   ],
   "source": [
    "var3.split('h')"
   ]
  },
  {
   "cell_type": "code",
   "execution_count": null,
   "id": "3acbfbd0",
   "metadata": {},
   "outputs": [],
   "source": []
  }
 ],
 "metadata": {
  "kernelspec": {
   "display_name": "Python 3 (ipykernel)",
   "language": "python",
   "name": "python3"
  },
  "language_info": {
   "codemirror_mode": {
    "name": "ipython",
    "version": 3
   },
   "file_extension": ".py",
   "mimetype": "text/x-python",
   "name": "python",
   "nbconvert_exporter": "python",
   "pygments_lexer": "ipython3",
   "version": "3.11.5"
  }
 },
 "nbformat": 4,
 "nbformat_minor": 5
}
