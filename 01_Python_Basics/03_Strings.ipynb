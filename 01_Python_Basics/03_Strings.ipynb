{
 "cells": [
  {
   "cell_type": "markdown",
   "id": "8ca9384a",
   "metadata": {},
   "source": [
    "## Create a string"
   ]
  },
  {
   "cell_type": "code",
   "execution_count": 1,
   "id": "5f0e88ef",
   "metadata": {},
   "outputs": [
    {
     "data": {
      "text/plain": [
       "'hello'"
      ]
     },
     "execution_count": 1,
     "metadata": {},
     "output_type": "execute_result"
    }
   ],
   "source": [
    "#single word\n",
    "'hello'"
   ]
  },
  {
   "cell_type": "code",
   "execution_count": 2,
   "id": "aac170e1",
   "metadata": {},
   "outputs": [
    {
     "data": {
      "text/plain": [
       "'this is also a string'"
      ]
     },
     "execution_count": 2,
     "metadata": {},
     "output_type": "execute_result"
    }
   ],
   "source": [
    "#entire phrase\n",
    "'this is also a string'"
   ]
  },
  {
   "cell_type": "code",
   "execution_count": 3,
   "id": "7fc4be15",
   "metadata": {},
   "outputs": [
    {
     "data": {
      "text/plain": [
       "' We can also use double quotes'"
      ]
     },
     "execution_count": 3,
     "metadata": {},
     "output_type": "execute_result"
    }
   ],
   "source": [
    "\" We can also use double quotes\""
   ]
  },
  {
   "cell_type": "code",
   "execution_count": 5,
   "id": "27be7ff4",
   "metadata": {},
   "outputs": [
    {
     "ename": "SyntaxError",
     "evalue": "unterminated string literal (detected at line 2) (1056685846.py, line 2)",
     "output_type": "error",
     "traceback": [
      "\u001b[1;36m  Cell \u001b[1;32mIn[5], line 2\u001b[1;36m\u001b[0m\n\u001b[1;33m    'I'm using single quotes, but this will give an error'\u001b[0m\n\u001b[1;37m                                                         ^\u001b[0m\n\u001b[1;31mSyntaxError\u001b[0m\u001b[1;31m:\u001b[0m unterminated string literal (detected at line 2)\n"
     ]
    }
   ],
   "source": [
    "#Be careful\n",
    "'I'm using single quotes, but this will give an error'"
   ]
  },
  {
   "cell_type": "code",
   "execution_count": null,
   "id": "cf99e63f",
   "metadata": {},
   "outputs": [],
   "source": [
    "\"I'm now using double quotes, this will work fine\""
   ]
  },
  {
   "cell_type": "markdown",
   "id": "cd4397ef",
   "metadata": {},
   "source": [
    "## Printing a String"
   ]
  },
  {
   "cell_type": "code",
   "execution_count": null,
   "id": "3175d1c3",
   "metadata": {},
   "outputs": [],
   "source": [
    "'Hello Shreyas'"
   ]
  },
  {
   "cell_type": "code",
   "execution_count": null,
   "id": "f29ca4b3",
   "metadata": {},
   "outputs": [],
   "source": [
    "'Hello Shreyas'\n",
    "'Hello RBPL'\n",
    "\n",
    "#We cannot output multiple strings this way"
   ]
  },
  {
   "cell_type": "code",
   "execution_count": null,
   "id": "6443c30a",
   "metadata": {},
   "outputs": [],
   "source": [
    "# We have to use print statement instead\n",
    "\n",
    "print('Hello Shreyas')\n",
    "print('Hello RBPL')"
   ]
  },
  {
   "cell_type": "code",
   "execution_count": null,
   "id": "43fd2451",
   "metadata": {},
   "outputs": [],
   "source": [
    "print('Use \\n for new line')"
   ]
  },
  {
   "cell_type": "code",
   "execution_count": 6,
   "id": "b3b917fb",
   "metadata": {},
   "outputs": [
    {
     "name": "stdout",
     "output_type": "stream",
     "text": [
      "Use \t for tab function\n"
     ]
    }
   ],
   "source": [
    "print('Use \\t for tab function')"
   ]
  },
  {
   "cell_type": "markdown",
   "id": "92ed7f90",
   "metadata": {},
   "source": [
    "## String Basics\n",
    "\n",
    "##### Grabbing"
   ]
  },
  {
   "cell_type": "code",
   "execution_count": 7,
   "id": "28377f3c",
   "metadata": {},
   "outputs": [
    {
     "data": {
      "text/plain": [
       "13"
      ]
     },
     "execution_count": 7,
     "metadata": {},
     "output_type": "execute_result"
    }
   ],
   "source": [
    "var1 = 'Hello Shreyas'\n",
    "len(var1)   #length of string"
   ]
  },
  {
   "cell_type": "code",
   "execution_count": 8,
   "id": "0a5e3eac",
   "metadata": {},
   "outputs": [
    {
     "name": "stdout",
     "output_type": "stream",
     "text": [
      "Hello Shreyas\n"
     ]
    }
   ],
   "source": [
    "print(var1)"
   ]
  },
  {
   "cell_type": "code",
   "execution_count": 9,
   "id": "55350b38",
   "metadata": {},
   "outputs": [
    {
     "data": {
      "text/plain": [
       "'H'"
      ]
     },
     "execution_count": 9,
     "metadata": {},
     "output_type": "execute_result"
    }
   ],
   "source": [
    "#show first element\n",
    "var1[0]"
   ]
  },
  {
   "cell_type": "code",
   "execution_count": 10,
   "id": "2ab1a62a",
   "metadata": {},
   "outputs": [
    {
     "data": {
      "text/plain": [
       "'H'"
      ]
     },
     "execution_count": 10,
     "metadata": {},
     "output_type": "execute_result"
    }
   ],
   "source": [
    "var1[-13]"
   ]
  },
  {
   "cell_type": "code",
   "execution_count": 11,
   "id": "188fd94c",
   "metadata": {},
   "outputs": [
    {
     "data": {
      "text/plain": [
       "'e'"
      ]
     },
     "execution_count": 11,
     "metadata": {},
     "output_type": "execute_result"
    }
   ],
   "source": [
    "var1[1]"
   ]
  },
  {
   "cell_type": "code",
   "execution_count": 12,
   "id": "2e952053",
   "metadata": {},
   "outputs": [
    {
     "name": "stdout",
     "output_type": "stream",
     "text": [
      "y\n"
     ]
    }
   ],
   "source": [
    "print(var1[-3])"
   ]
  },
  {
   "cell_type": "markdown",
   "id": "0808b6b2",
   "metadata": {},
   "source": [
    "#### Slicing"
   ]
  },
  {
   "cell_type": "code",
   "execution_count": 13,
   "id": "88df14ed",
   "metadata": {},
   "outputs": [
    {
     "data": {
      "text/plain": [
       "'Hello Shreyas'"
      ]
     },
     "execution_count": 13,
     "metadata": {},
     "output_type": "execute_result"
    }
   ],
   "source": [
    "var1"
   ]
  },
  {
   "cell_type": "code",
   "execution_count": 14,
   "id": "4e4a68ea",
   "metadata": {},
   "outputs": [
    {
     "data": {
      "text/plain": [
       "'llo Shreyas'"
      ]
     },
     "execution_count": 14,
     "metadata": {},
     "output_type": "execute_result"
    }
   ],
   "source": [
    "var1[2:]"
   ]
  },
  {
   "cell_type": "code",
   "execution_count": 15,
   "id": "a2f6f979",
   "metadata": {},
   "outputs": [
    {
     "data": {
      "text/plain": [
       "' Shreyas'"
      ]
     },
     "execution_count": 15,
     "metadata": {},
     "output_type": "execute_result"
    }
   ],
   "source": [
    "var1[5:]"
   ]
  },
  {
   "cell_type": "code",
   "execution_count": 16,
   "id": "ab4e2c62",
   "metadata": {},
   "outputs": [
    {
     "data": {
      "text/plain": [
       "'Hell'"
      ]
     },
     "execution_count": 16,
     "metadata": {},
     "output_type": "execute_result"
    }
   ],
   "source": [
    "var1[:4]\n",
    "\n",
    "#grab everything UP TO 4th index but not including it"
   ]
  },
  {
   "cell_type": "code",
   "execution_count": 17,
   "id": "543fc0f3",
   "metadata": {},
   "outputs": [
    {
     "data": {
      "text/plain": [
       "'Hell'"
      ]
     },
     "execution_count": 17,
     "metadata": {},
     "output_type": "execute_result"
    }
   ],
   "source": [
    "var1[:-9]"
   ]
  },
  {
   "cell_type": "code",
   "execution_count": 18,
   "id": "d9495ea8",
   "metadata": {},
   "outputs": [
    {
     "data": {
      "text/plain": [
       "'ell'"
      ]
     },
     "execution_count": 18,
     "metadata": {},
     "output_type": "execute_result"
    }
   ],
   "source": [
    "var1[1:4]"
   ]
  },
  {
   "cell_type": "code",
   "execution_count": 19,
   "id": "a640d113",
   "metadata": {},
   "outputs": [
    {
     "data": {
      "text/plain": [
       "'Shrey'"
      ]
     },
     "execution_count": 19,
     "metadata": {},
     "output_type": "execute_result"
    }
   ],
   "source": [
    "#Shrey\n",
    "var1[6:11]"
   ]
  },
  {
   "cell_type": "code",
   "execution_count": 20,
   "id": "b18fafb8",
   "metadata": {},
   "outputs": [
    {
     "data": {
      "text/plain": [
       "'Shrey'"
      ]
     },
     "execution_count": 20,
     "metadata": {},
     "output_type": "execute_result"
    }
   ],
   "source": [
    "var1[-7:-2]"
   ]
  },
  {
   "cell_type": "code",
   "execution_count": 21,
   "id": "fa117c65",
   "metadata": {},
   "outputs": [
    {
     "data": {
      "text/plain": [
       "'Shrey'"
      ]
     },
     "execution_count": 21,
     "metadata": {},
     "output_type": "execute_result"
    }
   ],
   "source": [
    "var1[6:-2]"
   ]
  },
  {
   "cell_type": "code",
   "execution_count": 22,
   "id": "d07cd754",
   "metadata": {},
   "outputs": [
    {
     "data": {
      "text/plain": [
       "'Shrey'"
      ]
     },
     "execution_count": 22,
     "metadata": {},
     "output_type": "execute_result"
    }
   ],
   "source": [
    "var1[-7:11]"
   ]
  },
  {
   "cell_type": "code",
   "execution_count": 23,
   "id": "8cf83dcb",
   "metadata": {},
   "outputs": [
    {
     "data": {
      "text/plain": [
       "'Hello Shreyas'"
      ]
     },
     "execution_count": 23,
     "metadata": {},
     "output_type": "execute_result"
    }
   ],
   "source": [
    "#Step size\n",
    "var1[::1]"
   ]
  },
  {
   "cell_type": "code",
   "execution_count": 24,
   "id": "936a74b1",
   "metadata": {},
   "outputs": [
    {
     "data": {
      "text/plain": [
       "'HloSrys'"
      ]
     },
     "execution_count": 24,
     "metadata": {},
     "output_type": "execute_result"
    }
   ],
   "source": [
    "var1[::2]"
   ]
  },
  {
   "cell_type": "code",
   "execution_count": 25,
   "id": "cdd705ab",
   "metadata": {},
   "outputs": [
    {
     "data": {
      "text/plain": [
       "'HlSes'"
      ]
     },
     "execution_count": 25,
     "metadata": {},
     "output_type": "execute_result"
    }
   ],
   "source": [
    "var1[::3]"
   ]
  },
  {
   "cell_type": "code",
   "execution_count": 26,
   "id": "a7ae691f",
   "metadata": {},
   "outputs": [
    {
     "data": {
      "text/plain": [
       "'sayerhS olleH'"
      ]
     },
     "execution_count": 26,
     "metadata": {},
     "output_type": "execute_result"
    }
   ],
   "source": [
    "var1[::-1]"
   ]
  },
  {
   "cell_type": "code",
   "execution_count": 27,
   "id": "eaebabfa",
   "metadata": {},
   "outputs": [
    {
     "data": {
      "text/plain": [
       "'syrSolH'"
      ]
     },
     "execution_count": 27,
     "metadata": {},
     "output_type": "execute_result"
    }
   ],
   "source": [
    "var1[::-2]"
   ]
  },
  {
   "cell_type": "code",
   "execution_count": 28,
   "id": "1a9b26d9",
   "metadata": {},
   "outputs": [
    {
     "data": {
      "text/plain": [
       "'l h'"
      ]
     },
     "execution_count": 28,
     "metadata": {},
     "output_type": "execute_result"
    }
   ],
   "source": [
    "var1[3:9:2]"
   ]
  },
  {
   "cell_type": "markdown",
   "id": "188a7962",
   "metadata": {},
   "source": [
    "## Properties of String"
   ]
  },
  {
   "cell_type": "code",
   "execution_count": 29,
   "id": "898ac833",
   "metadata": {},
   "outputs": [
    {
     "data": {
      "text/plain": [
       "'Hello Shreyas'"
      ]
     },
     "execution_count": 29,
     "metadata": {},
     "output_type": "execute_result"
    }
   ],
   "source": [
    "#Immutability: once string is created, elements within it cannot be changed or replaced\n",
    "var1"
   ]
  },
  {
   "cell_type": "code",
   "execution_count": 31,
   "id": "ed2685ce",
   "metadata": {
    "scrolled": true
   },
   "outputs": [
    {
     "ename": "TypeError",
     "evalue": "'str' object does not support item assignment",
     "output_type": "error",
     "traceback": [
      "\u001b[1;31m---------------------------------------------------------------------------\u001b[0m",
      "\u001b[1;31mTypeError\u001b[0m                                 Traceback (most recent call last)",
      "Cell \u001b[1;32mIn[31], line 1\u001b[0m\n\u001b[1;32m----> 1\u001b[0m var1[\u001b[38;5;241m0\u001b[39m] \u001b[38;5;241m=\u001b[39m \u001b[38;5;124m'\u001b[39m\u001b[38;5;124mO\u001b[39m\u001b[38;5;124m'\u001b[39m\n",
      "\u001b[1;31mTypeError\u001b[0m: 'str' object does not support item assignment"
     ]
    }
   ],
   "source": [
    "var1[0] = 'O'"
   ]
  },
  {
   "cell_type": "code",
   "execution_count": 32,
   "id": "478e3f33",
   "metadata": {},
   "outputs": [
    {
     "data": {
      "text/plain": [
       "'Hello Shreyas. I am great learner'"
      ]
     },
     "execution_count": 32,
     "metadata": {},
     "output_type": "execute_result"
    }
   ],
   "source": [
    "#Concatenation\n",
    "var2 = '. I am great learner'\n",
    "var3 = var1 + var2\n",
    "var3"
   ]
  },
  {
   "cell_type": "code",
   "execution_count": 33,
   "id": "b252b29d",
   "metadata": {},
   "outputs": [
    {
     "data": {
      "text/plain": [
       "5"
      ]
     },
     "execution_count": 33,
     "metadata": {},
     "output_type": "execute_result"
    }
   ],
   "source": [
    "2+3"
   ]
  },
  {
   "cell_type": "code",
   "execution_count": 34,
   "id": "82af2a6c",
   "metadata": {},
   "outputs": [
    {
     "name": "stdout",
     "output_type": "stream",
     "text": [
      "5\n"
     ]
    }
   ],
   "source": [
    "print(2+3)"
   ]
  },
  {
   "cell_type": "code",
   "execution_count": 35,
   "id": "4f6c9f42",
   "metadata": {},
   "outputs": [
    {
     "data": {
      "text/plain": [
       "'23'"
      ]
     },
     "execution_count": 35,
     "metadata": {},
     "output_type": "execute_result"
    }
   ],
   "source": [
    "z = '2'+'3'\n",
    "z"
   ]
  },
  {
   "cell_type": "code",
   "execution_count": 36,
   "id": "cad42e5f",
   "metadata": {},
   "outputs": [
    {
     "data": {
      "text/plain": [
       "str"
      ]
     },
     "execution_count": 36,
     "metadata": {},
     "output_type": "execute_result"
    }
   ],
   "source": [
    "type(z)"
   ]
  },
  {
   "cell_type": "code",
   "execution_count": 37,
   "id": "675bd0f0",
   "metadata": {},
   "outputs": [
    {
     "name": "stdout",
     "output_type": "stream",
     "text": [
      "23\n"
     ]
    }
   ],
   "source": [
    "print(z)"
   ]
  },
  {
   "cell_type": "markdown",
   "id": "1386e1ef",
   "metadata": {},
   "source": [
    "# Basic Built-in String Methods\n",
    "\n",
    "\n",
    "object.method(parameters)"
   ]
  },
  {
   "cell_type": "code",
   "execution_count": 38,
   "id": "2a8d01d7",
   "metadata": {},
   "outputs": [
    {
     "data": {
      "text/plain": [
       "'Hello Shreyas'"
      ]
     },
     "execution_count": 38,
     "metadata": {},
     "output_type": "execute_result"
    }
   ],
   "source": [
    "var1"
   ]
  },
  {
   "cell_type": "code",
   "execution_count": 39,
   "id": "7d19aa1e",
   "metadata": {},
   "outputs": [
    {
     "data": {
      "text/plain": [
       "'HELLO SHREYAS'"
      ]
     },
     "execution_count": 39,
     "metadata": {},
     "output_type": "execute_result"
    }
   ],
   "source": [
    "var1.upper()"
   ]
  },
  {
   "cell_type": "code",
   "execution_count": 40,
   "id": "3937c01a",
   "metadata": {},
   "outputs": [
    {
     "data": {
      "text/plain": [
       "<function str.upper()>"
      ]
     },
     "execution_count": 40,
     "metadata": {},
     "output_type": "execute_result"
    }
   ],
   "source": [
    "var1.upper"
   ]
  },
  {
   "cell_type": "code",
   "execution_count": 41,
   "id": "f3ed2301",
   "metadata": {},
   "outputs": [
    {
     "data": {
      "text/plain": [
       "'hello shreyas'"
      ]
     },
     "execution_count": 41,
     "metadata": {},
     "output_type": "execute_result"
    }
   ],
   "source": [
    "var1.lower()"
   ]
  },
  {
   "cell_type": "code",
   "execution_count": 42,
   "id": "4a680c94",
   "metadata": {},
   "outputs": [
    {
     "data": {
      "text/plain": [
       "['Hello', 'Shreyas.', 'I', 'am', 'great', 'learner']"
      ]
     },
     "execution_count": 42,
     "metadata": {},
     "output_type": "execute_result"
    }
   ],
   "source": [
    "var3.split()"
   ]
  },
  {
   "cell_type": "code",
   "execution_count": 43,
   "id": "30770fc7",
   "metadata": {},
   "outputs": [
    {
     "data": {
      "text/plain": [
       "['Hell', 'hreyas']"
      ]
     },
     "execution_count": 43,
     "metadata": {},
     "output_type": "execute_result"
    }
   ],
   "source": [
    "var1.split('o S')"
   ]
  },
  {
   "cell_type": "code",
   "execution_count": 44,
   "id": "e2ac436a",
   "metadata": {},
   "outputs": [
    {
     "data": {
      "text/plain": [
       "['Hello S', 'reyas. I am great learner']"
      ]
     },
     "execution_count": 44,
     "metadata": {},
     "output_type": "execute_result"
    }
   ],
   "source": [
    "var3.split('h')"
   ]
  },
  {
   "cell_type": "markdown",
   "id": "0d9960cc",
   "metadata": {},
   "source": [
    "## Print Formatting"
   ]
  },
  {
   "cell_type": "code",
   "execution_count": 45,
   "id": "bc3a2435",
   "metadata": {},
   "outputs": [
    {
     "data": {
      "text/plain": [
       "'Insert a string in this curly bracket : This is inserted string'"
      ]
     },
     "execution_count": 45,
     "metadata": {},
     "output_type": "execute_result"
    }
   ],
   "source": [
    "'Insert a string in this curly bracket : {}'.format('This is inserted string')"
   ]
  },
  {
   "cell_type": "code",
   "execution_count": 47,
   "id": "a94bf985",
   "metadata": {},
   "outputs": [
    {
     "data": {
      "text/plain": [
       "'I have Pen, Pencil and Eraser'"
      ]
     },
     "execution_count": 47,
     "metadata": {},
     "output_type": "execute_result"
    }
   ],
   "source": [
    "'I have {}, {} and {}'.format('Pen','Pencil','Eraser')"
   ]
  },
  {
   "cell_type": "code",
   "execution_count": 48,
   "id": "ffc038c1",
   "metadata": {},
   "outputs": [
    {
     "name": "stdout",
     "output_type": "stream",
     "text": [
      "The result was fail. But after hard work I got 80.0\n"
     ]
    }
   ],
   "source": [
    "res = 0.8*100\n",
    "\n",
    "print('The result was {s}. But after hard work I got {r}'.format(r=res,s='fail'))"
   ]
  },
  {
   "cell_type": "code",
   "execution_count": 49,
   "id": "a2a142a2",
   "metadata": {},
   "outputs": [
    {
     "name": "stdout",
     "output_type": "stream",
     "text": [
      "The result was 80.0\n"
     ]
    }
   ],
   "source": [
    "#f strings: formatted string literals. introduced in python 3.6\n",
    "print(f'The result was {res}')"
   ]
  },
  {
   "cell_type": "code",
   "execution_count": 50,
   "id": "ad0d7916",
   "metadata": {},
   "outputs": [
    {
     "name": "stdout",
     "output_type": "stream",
     "text": [
      "Trainer is Shreyas and he is leading MMLP course\n"
     ]
    }
   ],
   "source": [
    "course = 'MMLP'\n",
    "name = 'Shreyas'\n",
    "\n",
    "print(f'Trainer is {name} and he is leading {course} course')"
   ]
  },
  {
   "cell_type": "code",
   "execution_count": null,
   "id": "71586777",
   "metadata": {},
   "outputs": [],
   "source": []
  }
 ],
 "metadata": {
  "kernelspec": {
   "display_name": "Python 3 (ipykernel)",
   "language": "python",
   "name": "python3"
  },
  "language_info": {
   "codemirror_mode": {
    "name": "ipython",
    "version": 3
   },
   "file_extension": ".py",
   "mimetype": "text/x-python",
   "name": "python",
   "nbconvert_exporter": "python",
   "pygments_lexer": "ipython3",
   "version": "3.11.5"
  }
 },
 "nbformat": 4,
 "nbformat_minor": 5
}
